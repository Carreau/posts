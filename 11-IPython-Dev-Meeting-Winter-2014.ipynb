{
 "metadata": {
  "name": ""
 },
 "nbformat": 3,
 "nbformat_minor": 0,
 "worksheets": [
  {
   "cells": [
    {
     "cell_type": "markdown",
     "metadata": {},
     "source": [
      "Some recap from my perspective of IPython dev meeting in Berkeley. Less code than last time, more tired. More complex problem to solve."
     ]
    },
    {
     "cell_type": "heading",
     "level": 2,
     "metadata": {},
     "source": [
      "Bi-Annual Meeting"
     ]
    },
    {
     "cell_type": "markdown",
     "metadata": {},
     "source": [
      "As you might know (or not), with the [Sloan Grant] came some funding to allow a reunion of the IPython core dev and active participants twice a year; last July we had our first 5 days meeting in Berkley, so it was time to meet again and discuss the future of IPython.\n",
      "\n",
      "In this post I'll try to sum up what append during the week to bring you up to speed as, unlink everyweek, we did not do our discussion in public on hipchat. I hope this might explain our low presence on the net for the last five days."
     ]
    },
    {
     "cell_type": "markdown",
     "metadata": {},
     "source": [
      "For the technical detail, I was the only one that was flewn from Paris on last saturday (11th), I was welcommed by @takluyver, @jhamerick and @aculich who helpped me to stay awake on the first day; I fought jetlag in San-Francisco on Sunday. Then the hard part started, you put between 8 and 10 people in a close room with coffe from 9:30am to 6pm for 5days and mix."
     ]
    },
    {
     "cell_type": "markdown",
     "metadata": {},
     "source": [
      "Usually we were coding only from 8 to 9 while having breakfast, hence the low apparent productivity (except from Jon and Min that might probably have their clone at home)."
     ]
    },
    {
     "cell_type": "markdown",
     "metadata": {},
     "source": [
      "We had extra people from last time, in the name of [Kyle Keley] from Rackspace, that is responsible for nbconvert deploy, and @takluyver that I finnaly met in person after two years."
     ]
    },
    {
     "cell_type": "markdown",
     "metadata": {},
     "source": [
      "The two exception were wednesday where the room was open from 4pm to 6pm for anybody to comme and say hello, as well as thurstday evening, were we had dinner with other people related to IPython around berkeley."
     ]
    },
    {
     "cell_type": "heading",
     "level": 2,
     "metadata": {},
     "source": [
      "Human After All"
     ]
    },
    {
     "cell_type": "markdown",
     "metadata": {},
     "source": [
      "Of course not everything was productive, in particular [Brian had the inside of his screen cleanned](http://www.sanger.dk) and I'll post a video of [Thomas learning to drive]. (Mus\u00e9e des M\u00e9chaniques, near Fisherman Wharf in SF) "
     ]
    },
    {
     "cell_type": "heading",
     "level": 2,
     "metadata": {},
     "source": [
      "IPython 2.0"
     ]
    },
    {
     "cell_type": "markdown",
     "metadata": {},
     "source": [
      "We are slightly late on the scedule, but some things had to be discussed. It was a good thing to be all in one room.\n",
      "Expect a release of 2.0 beta in 4 to 6 week. \n",
      "\n",
      "[Modal UI] was merge 2 weeks ago, and will be refined, we know some people are not happy with it, and we are aware it is not perfect.\n",
      "We were starting to hit the limit of what we could do with browser and had to go modal to develop the notebook. We will still be limited by the browser capability and fight with the dom focusing of element; so some compromise have to be made and we thought **a lot** of what we wanted, we are happy with it and need 4 to 6 six weeks of the modal UI in the wild to get user feedback. So if you have comment, complaint we would be happy to hear from you. \n",
      "\n",
      "we also a huge discussion of Interactive Widget, from a tecnical point of view, User eXperience, and code review. We are pushing some functionality from 2.0 to later, it will not prevent you from dooing anything but might need little more code in the kernel. Expect Jon Pull request to be merged in a week or so, then 4 more weeks to have testing from users. If you are adventurous, [grab Jon PR today] and test it ! Jason Grout made a lot of good feedback, advince and technical review. "
     ]
    },
    {
     "cell_type": "heading",
     "level": 3,
     "metadata": {},
     "source": [
      "Unexpected Changes"
     ]
    },
    {
     "cell_type": "markdown",
     "metadata": {},
     "source": [
      "We had an unexpected discussion about library like [mpld3] and static widget (@Jakevdp we love your work) which lead to a **small** digression onf 1 day and a half about dynamic content (on nbviewer |\u00a0live notebook) and consequence on security as well as good practice. I'll try to quickly sum-up the problem."
     ]
    },
    {
     "cell_type": "markdown",
     "metadata": {},
     "source": [
      "Notebook allow arbitrary content execusion, but you don't want arbitrary code to be run. So we need to walk the fine line to decide what is code that user *want* to run, from code that user woudl prefer *not to run*."
     ]
    },
    {
     "cell_type": "markdown",
     "metadata": {},
     "source": [
      "As of IPython 1.0, **viewing** a notebook is equivalent of running code, with the possibility we keep adding to IPython at some point notebook could wreak havock on your machines, and we want to avoid making things like *document macro* that could be malicious. "
     ]
    },
    {
     "cell_type": "markdown",
     "metadata": {},
     "source": [
      "In the meantime we like to avoid aving a user experience like UAC where in the end you just click `Allow` without pondering the consequences. Keep in mind that you have to view notebook as program, that run as yourself and that **We cannot guaranty** full security when you open notebook on your local machine, but we will do our best."
     ]
    },
    {
     "cell_type": "markdown",
     "metadata": {},
     "source": [
      "That beeing said, as some content like HTML/Javascript/svg might present security they might not be show in some circonstance when you **open** a notebook, so from 2.0 and oward we will (try to) :"
     ]
    },
    {
     "cell_type": "markdown",
     "metadata": {},
     "source": [
      "  - Prevent rendering markdown if it contains any Javascript\n",
      "  - HTML/JS/svg in output on load\n",
      "     - will not be show on load\n",
      "     - unless **you**  were the one to have fully executed the notebook for the last time."
     ]
    },
    {
     "cell_type": "markdown",
     "metadata": {},
     "source": [
      "This will not apply (for the time beeing) on nbviewer."
     ]
    },
    {
     "cell_type": "markdown",
     "metadata": {},
     "source": [
      "To do so, starting with 2.0 notebook will be signed (as in cryptographycally signed) on save with IPython web frontend (Aka webnotebook). This is of course not mandatory for a notebook to run. It does not change the notebook format, and do not affect existing kernels. Though if you have a custom frontend (or program that generate notebook) we woudl advise for you to follow the same practice."
     ]
    },
    {
     "cell_type": "markdown",
     "metadata": {},
     "source": [
      "From a user perspective, this means that if I **download** the example notebook mpld3 on my machine, it will not show as on nbviewer up until you have run all cells at least once in once session. Once done it will not affect you. "
     ]
    },
    {
     "cell_type": "markdown",
     "metadata": {},
     "source": [
      "If you work a lot across multiple machine and like your notebook to be recognized across machines, we will provide more technical details later. "
     ]
    },
    {
     "cell_type": "heading",
     "level": 3,
     "metadata": {},
     "source": [
      "Public/Private Keys"
     ]
    },
    {
     "cell_type": "markdown",
     "metadata": {},
     "source": [
      "I am personnaly really happy about the signature mechanisme we are putting in place. It might add noise to versionnig system (but you can always have a hook that clean it). I believe it could be tightly coupled to authorship of total or part of a notebook.\n",
      "\n",
      "We did quite some discussion on the current mechanisme, and add several iterations before comming to that. We suppose security is not perfect and we love people to review that. Personally I will try to hook that into Public/Private key pairs to be able to have a ring of trust of notebook.\n",
      "\n",
      "I hope also that at some point it might help in versionnig to know when a notebook has merges (once the merge tool is written) and might not reflect what a full re-execusion would do."
     ]
    },
    {
     "cell_type": "heading",
     "level": 2,
     "metadata": {},
     "source": [
      "IPython 3.0"
     ]
    },
    {
     "cell_type": "markdown",
     "metadata": {},
     "source": [
      "Not everything planned for 2.0 was done, some many things have been just pushed to next release, we new about it but it is always hard to see the number of things that have to be done. \n",
      "\n",
      "As for myself, I wasn't assigned to any issues, indead I'll have to start writing my dissertation but I'm thrilled to see what is comming. We have not made a detailed plan yet but here is what we are thinking about:"
     ]
    },
    {
     "cell_type": "markdown",
     "metadata": {},
     "source": [
      "  - Static Widgets\n",
      "    - runs through all combinations of widgets and sends results to the notebook.\n",
      "    - Where do we store all te data without making 2Gb notebooks ? \n",
      "    - Make it compatible with nbviewer ? \n",
      "\n",
      "  - Full, integrated support for non-Python kernels\n",
      "    - Launch IPython Once, and ability to select \"Open this notebook with (IJulia|IRuby|Ihaskell|...) etc.\n",
      "    - Simpler way for kernels to provide \"Configurability\" for IPython.\n",
      "    \n",
      "  - Diff/merge of notebooks\n",
      "    - Greg Wilson have student workign on that\n",
      "    - We will try also\n",
      "    \n",
      "  - UI to browse filesytem/edit non-ipynb text-files\n",
      "  - Push nbviewer forward\n",
      "  - Starting Multiuser-support\n",
      "    - learn node.js"
     ]
    },
    {
     "cell_type": "heading",
     "level": 2,
     "metadata": {},
     "source": [
      "Rackspace"
     ]
    },
    {
     "cell_type": "markdown",
     "metadata": {},
     "source": [
      "Nbviewer have moved to rackspace a few weeks ago, and we continuing to move things over there. Thanks to Kyle Keley and Jessy Noller, we know have ability to deploy nbviewer on Rackspace servers usig salt-stack. Movign DNS controle over to Rackspace will allow us to semi-automatically deploy PRs to test and have clean load balancing when doing a deploy not for the service to drop user when a new version go into production.\n",
      "\n",
      "We (and this mean Kyle) are working hard to document this completly from A to Z and make as much as possible public so that you could replicate it locally. Right now we still have some things private because of Auth keys."
     ]
    },
    {
     "cell_type": "heading",
     "level": 2,
     "metadata": {},
     "source": [
      "After That..."
     ]
    },
    {
     "cell_type": "markdown",
     "metadata": {},
     "source": [
      "4.0... And we do not know, Sloan Grant funding end on 31 Dec 2014. So if you or your entreprise have used of IPython consider helping and feel free to write to us.\n",
      "\n",
      "Bye from thousand of feet about Atlanic Ocean, it's 5:30 am were I'm heading to, and 8:30pm where I come from. Next IPython Meeting will be in roughly 6 month, mark the date and come say hello. Otherwise search is at PyCon, SciPy, EuroSciPy (..etc) we have Stickers! "
     ]
    }
   ],
   "metadata": {}
  }
 ]
}