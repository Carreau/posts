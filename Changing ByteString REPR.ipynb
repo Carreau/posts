{
 "cells": [
  {
   "cell_type": "markdown",
   "metadata": {},
   "source": [
    "A recent [rebutal](https://learnpythonthehardway.org/book/nopython3.html) against Python 3 was recently written by the (in)famous Zed Shaw, with [many](https://eev.ee/blog/2016/11/23/a-rebuttal-for-python-3/) responses to various arguments and counter arguments. \n",
    "\n",
    "One particular topic which caught my eye was the `bytearray` vs `unicodearray` debate. I'll try explicitely avoid the term `str`/`string`/`bytes`/`unicode` naming as it is (IMHO) confusing, but that's a debate for another time. \n",
    "\n",
    "If one pay attention to above debates, you might see that there are about two camps:\n",
    "\n",
    " - `bytearray` and `unicodearray` are two different things, and we should _never_ convert from one to the other. (that's rought the Pro-Python-3 camp)\n",
    " - `bytearray` and `unicodearray` are similar enough in most cases that we should do the magic for users. \n",
    " \n",
    " \n",
    "I'm greatly exagerating here and the following is neither for one side or another, I have my personal preference of what I think is good, but that's irrelevant for now. \n",
    "\n",
    "Note that both sides argue that _their_ preference is better for beginners. "
   ]
  },
  {
   "cell_type": "markdown",
   "metadata": {},
   "source": [
    "Let's try to deconstruct both arguments. The Python 3 one argue that both bytes and text are different and should be treated as such. One of the example will be something like:"
   ]
  },
  {
   "cell_type": "markdown",
   "metadata": {},
   "source": [
    "python2\n",
    "\n",
    "```\n",
    ">>> print(\"it is summer !\"[::-1])\n",
    "'! remmus si ti'\n",
    "```\n",
    "\n",
    "Seem to work fine... until you enter non ascii:\n",
    "\n",
    "```\n",
    ">>> print(\"C'est l'été !\"[::-1])\n",
    "! ��t��'l tse'C\n",
    "```\n"
   ]
  },
  {
   "cell_type": "markdown",
   "metadata": {},
   "source": [
    "In the second case throwing `.encode()` and  `.decode()` at random won't really fix the thing. Thus this camp argue you _need_ to teach about text vs bytes early.\n"
   ]
  },
  {
   "cell_type": "markdown",
   "metadata": {},
   "source": [
    "The second camp argue that in most case decoding/encoding automatically as ASCII make perfect sens as teh bytearrays are already human redable as is. It is relatively hard already to teach to a beginner. And usually a human brain can keep track of 5 +/- 2 things as the same time. Asking users to remember (and understand) when they need to encode/decode is tough. Especially if the difference betwen the two result seem minimal."
   ]
  },
  {
   "cell_type": "markdown",
   "metadata": {},
   "source": [
    "As a example, let's look at who among you have already **visually** read bytes comming from the network without decoding to ascii ?"
   ]
  },
  {
   "cell_type": "code",
   "execution_count": 11,
   "metadata": {},
   "outputs": [],
   "source": [
    "import requests_cache"
   ]
  },
  {
   "cell_type": "code",
   "execution_count": 13,
   "metadata": {},
   "outputs": [],
   "source": [
    "requests_cache.install_cache('tmp.db.tmp')"
   ]
  },
  {
   "cell_type": "markdown",
   "metadata": {},
   "source": [
    "Yes you did !"
   ]
  },
  {
   "cell_type": "code",
   "execution_count": 14,
   "metadata": {},
   "outputs": [
    {
     "data": {
      "text/plain": [
       "b'{\"name\":\"Luke Skywalker\",\"height\":\"172\",\"mass\":\"77\",\"hair_color\":\"blond\",\"skin_color\":\"fair\",\"eye_color\":\"blue\",\"birth_year\":\"19BBY\",\"gender\":\"male\",\"homeworld\":\"http://swapi.co/api/planets/1/\",\"films\":[\"http://swapi.co/api/films/6/\",\"http://swapi.co/api/films/3/\",\"http://swapi.co/api/films/2/\",\"http://swapi.co/api/films/1/\",\"http://swapi.co/api/films/7/\"],\"species\":[\"http://swapi.co/api/species/1/\"],\"vehicles\":[\"http://swapi.co/api/vehicles/14/\",\"http://swapi.co/api/vehicles/30/\"],\"starships\":[\"http://swapi.co/api/starships/12/\",\"http://swapi.co/api/starships/22/\"],\"created\":\"2014-12-09T13:50:51.644000Z\",\"edited\":\"2014-12-20T21:17:56.891000Z\",\"url\":\"http://swapi.co/api/people/1/\"}'"
      ]
     },
     "execution_count": 14,
     "metadata": {},
     "output_type": "execute_result"
    }
   ],
   "source": [
    "import requests\n",
    "requests.get('http://swapi.co/api/people/1').content"
   ]
  },
  {
   "cell_type": "code",
   "execution_count": 15,
   "metadata": {},
   "outputs": [
    {
     "data": {
      "text/plain": [
       "'{\"name\":\"Luke Skywalker\",\"height\":\"172\",\"mass\":\"77\",\"hair_color\":\"blond\",\"skin_color\":\"fair\",\"eye_color\":\"blue\",\"birth_year\":\"19BBY\",\"gender\":\"male\",\"homeworld\":\"http://swapi.co/api/planets/1/\",\"films\":[\"http://swapi.co/api/films/6/\",\"http://swapi.co/api/films/3/\",\"http://swapi.co/api/films/2/\",\"http://swapi.co/api/films/1/\",\"http://swapi.co/api/films/7/\"],\"species\":[\"http://swapi.co/api/species/1/\"],\"vehicles\":[\"http://swapi.co/api/vehicles/14/\",\"http://swapi.co/api/vehicles/30/\"],\"starships\":[\"http://swapi.co/api/starships/12/\",\"http://swapi.co/api/starships/22/\"],\"created\":\"2014-12-09T13:50:51.644000Z\",\"edited\":\"2014-12-20T21:17:56.891000Z\",\"url\":\"http://swapi.co/api/people/1/\"}'"
      ]
     },
     "execution_count": 15,
     "metadata": {},
     "output_type": "execute_result"
    }
   ],
   "source": [
    "requests.get('http://swapi.co/api/people/1').content.decode()"
   ]
  },
  {
   "cell_type": "markdown",
   "metadata": {},
   "source": [
    "Go explain a beginner that the 2 above are different things, to someone who might already struggle with 0 (or 1) base indexing, and with the syntax of the language. "
   ]
  },
  {
   "cell_type": "markdown",
   "metadata": {},
   "source": [
    "## The system is non consistant"
   ]
  },
  {
   "cell_type": "markdown",
   "metadata": {},
   "source": [
    "Many argue that Python 2 is non consistent as the implicit conversion make weird things possible:"
   ]
  },
  {
   "cell_type": "markdown",
   "metadata": {},
   "source": [
    "Ptyhon 2:\n",
    "\n",
    "```\n",
    "print(\"it's summer\".encode().encode())\n",
    "it's summer\n",
    "```"
   ]
  },
  {
   "cell_type": "markdown",
   "metadata": {},
   "source": [
    "Is `\"it's summer\"` bytes or unicode ? is `\"it's summer\".encode()` bytes or unicode. Well, you can't tell becaue the question does not make sens. Hence the Python 3 change. Which was an on purpose decision. It is neither good; not bad. It traded one set of functionlities (auto conversion of bytes <-> text) for more invarients: I can't encode text twice."
   ]
  },
  {
   "cell_type": "markdown",
   "metadata": {},
   "source": [
    "The remaining problem is `text` and `bytes` might now be much different for the _computer_, they still look so similar to the user. And while computers are good at detecting a single little `b''` prefix, human are not. The human brain _does_ group things that look similar, and it is _extremly hard_  to make abstraction of things you already know. \n",
    "\n",
    "Can you, like a computer , play chess against yourself without your strategy with the whites to affect your strategy with the blacks ?\n",
    "\n",
    "Can you read `ЯUSSIAИ`, without seeing a \"Reversed\" R and a reversed N ?\n",
    "\n",
    "A computer will have no difficulties. \n",
    "\n",
    "Maybe we need to help the human by changing the representation of `bytesarrays` ?"
   ]
  },
  {
   "cell_type": "markdown",
   "metadata": {},
   "source": [
    "### Changing the repr"
   ]
  },
  {
   "cell_type": "markdown",
   "metadata": {},
   "source": [
    "First, remember that _there are good reasons_ for `bytesarrays` to be represented by decoding to ascii-like (non ASCCI get hex-escaped). It is tremendouly usefull when working on network interfaces, or when trying to figure out what is in a binary blog as there are _often_ pieces in ASCII. The type of a file staring with hex : `89 50 4e 47 0d` is not obvious. Though if correspond in asci to `?PNG` ... so well you know it's an image. This is not what we are trying to tackle."
   ]
  },
  {
   "cell_type": "markdown",
   "metadata": {},
   "source": [
    "Regardless of previous statement what would happend if we were to revert the `repr` of `bytesarray` to better represent what they are ?  IPython allows to change object repr easily:"
   ]
  },
  {
   "cell_type": "code",
   "execution_count": 59,
   "metadata": {
    "collapsed": true
   },
   "outputs": [],
   "source": [
    "ip = get_ipython()\n",
    "from binascii import hexlify\n",
    "text_formatter = ip.display_formatter.formatters['text/plain']"
   ]
  },
  {
   "cell_type": "code",
   "execution_count": 60,
   "metadata": {},
   "outputs": [
    {
     "data": {
      "text/plain": [
       "<function __main__._print_bytestr>"
      ]
     },
     "execution_count": 60,
     "metadata": {},
     "output_type": "execute_result"
    }
   ],
   "source": [
    "def _print_bytestr(arg, p, cycle):\n",
    "    p.text('BytesBytesBytesBytesBytes')        \n",
    "text_formatter.for_type(bytes, _print_bytestr)"
   ]
  },
  {
   "cell_type": "code",
   "execution_count": 61,
   "metadata": {},
   "outputs": [
    {
     "data": {
      "text/plain": [
       "BytesBytesBytesBytesBytes"
      ]
     },
     "execution_count": 61,
     "metadata": {},
     "output_type": "execute_result"
    }
   ],
   "source": [
    "b\"hello from bytes\""
   ]
  },
  {
   "cell_type": "markdown",
   "metadata": {},
   "source": [
    "Ok, not really usefull, but originally byes are 0 and 1:"
   ]
  },
  {
   "cell_type": "code",
   "execution_count": 64,
   "metadata": {},
   "outputs": [
    {
     "data": {
      "text/plain": [
       "<bytes  \"0b1101000011001010110110001101100011011110010000001111010011001010111001001101111011100110010000001100001011011100110010000100000011011110110111001100101011100110010000000100001\" at 0x10734c8f0>"
      ]
     },
     "execution_count": 64,
     "metadata": {},
     "output_type": "execute_result"
    }
   ],
   "source": [
    "def _print_bytestr(arg, p, cycle):\n",
    "    p.text('<bytes  \"'+bin(int(hexlify(arg).decode(), 16))+'\" at {}>'.format(hex(id(arg))))        \n",
    "text_formatter.for_type(bytes, _print_bytestr)\n",
    "\n",
    "b'hello zeros and ones !'"
   ]
  },
  {
   "cell_type": "markdown",
   "metadata": {},
   "source": [
    "a bit long, let's ellide:"
   ]
  },
  {
   "cell_type": "code",
   "execution_count": 116,
   "metadata": {},
   "outputs": [],
   "source": [
    "def ellide(s):\n",
    "    if len(s) < 35 :\n",
    "        return s\n",
    "    else:\n",
    "        return s[0:18]+'...'+s[-8:]"
   ]
  },
  {
   "cell_type": "code",
   "execution_count": 70,
   "metadata": {},
   "outputs": [
    {
     "data": {
      "text/plain": [
       "<bytes  \"0b1101000011001010...00100001\" at 0x1073195a8>"
      ]
     },
     "execution_count": 70,
     "metadata": {},
     "output_type": "execute_result"
    }
   ],
   "source": [
    "def _print_bytestr(arg, p, cycle):\n",
    "    p.text('<bytes  \"'+ellide(bin(int(hexlify(arg).decode(), 16)))+'\" at {}>'.format(hex(id(arg))))        \n",
    "text_formatter.for_type(bytes, _print_bytestr)\n",
    "\n",
    "b'hello zeros and ones !'"
   ]
  },
  {
   "cell_type": "markdown",
   "metadata": {},
   "source": [
    "Now you will definitively remember when an object is bytes !"
   ]
  },
  {
   "cell_type": "code",
   "execution_count": 73,
   "metadata": {},
   "outputs": [
    {
     "data": {
      "text/plain": [
       "<bytes  \"0b1111011001000100...01111101\" at 0x107f08920>"
      ]
     },
     "execution_count": 73,
     "metadata": {},
     "output_type": "execute_result"
    }
   ],
   "source": [
    "requests.get('http://swapi.co/api/people/1').content"
   ]
  },
  {
   "cell_type": "markdown",
   "metadata": {},
   "source": [
    "zeros and ones might be the most compact, hex notation give you more infomation:"
   ]
  },
  {
   "cell_type": "code",
   "execution_count": 76,
   "metadata": {},
   "outputs": [
    {
     "data": {
      "text/plain": [
       "<function __main__._print_bytestr>"
      ]
     },
     "execution_count": 76,
     "metadata": {},
     "output_type": "execute_result"
    }
   ],
   "source": [
    "def _print_bytestr(arg, p, cycle):\n",
    "    p.text('<bytes  \"'+ellide(hexlify(arg).decode())+'\" at {}>'.format(hex(id(arg))))        \n",
    "text_formatter.for_type(bytes, _print_bytestr)"
   ]
  },
  {
   "cell_type": "code",
   "execution_count": 75,
   "metadata": {},
   "outputs": [
    {
     "data": {
      "text/plain": [
       "<bytes  \"7b226e616d65223a22...312f227d\" at 0x107e2eec0>"
      ]
     },
     "execution_count": 75,
     "metadata": {},
     "output_type": "execute_result"
    }
   ],
   "source": [
    "requests.get('http://swapi.co/api/people/1').content"
   ]
  },
  {
   "cell_type": "markdown",
   "metadata": {},
   "source": [
    "The point being that if you make `bytesarray`s and `unicodearray`s different for the computer, you might (should ?) at least make them visually different when displayed. "
   ]
  },
  {
   "cell_type": "markdown",
   "metadata": {},
   "source": [
    "The above example might not be useful, as many don't fluently read binary or hex but they are visually different."
   ]
  },
  {
   "cell_type": "markdown",
   "metadata": {},
   "source": [
    "##  Other possible REPR"
   ]
  },
  {
   "cell_type": "markdown",
   "metadata": {},
   "source": [
    "The is then a compromise between something usefull and visually distinctive. \n",
    "While the `b'...'` repr is nice, it need to go through some shenigans for non-renderable and non-ascii bytes:"
   ]
  },
  {
   "cell_type": "code",
   "execution_count": 84,
   "metadata": {},
   "outputs": [
    {
     "name": "stdout",
     "output_type": "stream",
     "text": [
      "b'\\x00hi there !\\n \\xc3\\xbcnico\\xc3\\x90e !'\n"
     ]
    }
   ],
   "source": [
    "print('\\x00hi there !\\n ünicoÐe !'.encode())"
   ]
  },
  {
   "cell_type": "markdown",
   "metadata": {},
   "source": [
    "Why not make a full-hex dump with the ascii-like representation en the side ?"
   ]
  },
  {
   "cell_type": "code",
   "execution_count": 85,
   "metadata": {},
   "outputs": [],
   "source": [
    "import codecs"
   ]
  },
  {
   "cell_type": "code",
   "execution_count": 86,
   "metadata": {},
   "outputs": [],
   "source": [
    "hexl = codecs.getencoder('hex')"
   ]
  },
  {
   "cell_type": "code",
   "execution_count": 87,
   "metadata": {
    "collapsed": true
   },
   "outputs": [],
   "source": [
    "def taken(it, n):\n",
    "    l =[]\n",
    "    try:\n",
    "        for i in range(n):\n",
    "            l.append(next(it))\n",
    "    except StopIteration:\n",
    "        pass\n",
    "    if len(l) == 0:\n",
    "        return []\n",
    "    return l+[' '*len(l[0])]*(n-len(l))"
   ]
  },
  {
   "cell_type": "code",
   "execution_count": 88,
   "metadata": {},
   "outputs": [],
   "source": [
    "def whitespace_filter(char):\n",
    "    if (char < '\\x20') or (char in {'�',127 }):\n",
    "        return '.'\n",
    "    else:\n",
    "        return char"
   ]
  },
  {
   "cell_type": "code",
   "execution_count": 89,
   "metadata": {},
   "outputs": [],
   "source": [
    "def hexrepr(ba):\n",
    "    N=8\n",
    "    hrep = repr(hexl(ba)[0])[2:-1]\n",
    "    asrep = ba.decode('ascii', \"replace\") # replace by � what is non-ascii\n",
    "    lt = len(asrep)\n",
    "    \n",
    "    _it = iter([x for x in hrep])\n",
    "    it = iter([x+next(_it) for x in _it])\n",
    "    \n",
    "    asit = iter(map(whitespace_filter, asrep))\n",
    "    ret = 'Bytes array of {} bytes:\\n\\n'.format(lt)\n",
    "    ret = ret + 'hex: | 01 23 45 56 89 AB CD EF | ASCII  |\\n'\n",
    "    ret = ret + '-----|'+'-'*(3*N)+' |'+'-'*N+'|\\n'\n",
    "    for i in range(0, lt//N+1):\n",
    "        ret = ret+'%03dx | '% i +' '.join(taken(it, N))+ \" |\"+''.join(taken(asit, N)) + '|\\n'\n",
    "    return ret\n",
    "    \n",
    "    \n",
    "    "
   ]
  },
  {
   "cell_type": "code",
   "execution_count": 90,
   "metadata": {},
   "outputs": [
    {
     "data": {
      "text/plain": [
       "<function __main__._print_bytestr>"
      ]
     },
     "execution_count": 90,
     "metadata": {},
     "output_type": "execute_result"
    }
   ],
   "source": [
    "def _print_bytestr(arg, p, cycle):\n",
    "    p.text(hexrepr(arg))        \n",
    "text_formatter.for_type(bytes, _print_bytestr)"
   ]
  },
  {
   "cell_type": "code",
   "execution_count": 94,
   "metadata": {},
   "outputs": [
    {
     "data": {
      "text/plain": [
       "Bytes array of 61 bytes:\n",
       "\n",
       "hex: | 01 23 45 56 89 AB CD EF | ASCII  |\n",
       "-----|------------------------ |--------|\n",
       "000x | 54 68 65 20 71 75 69 63 |The quic|\n",
       "001x | 6b 20 62 72 6f 77 6e 20 |k brown |\n",
       "002x | 66 6f 78 20 6a 75 6d 70 |fox jump|\n",
       "003x | 65 64 20 6f 76 65 72 20 |ed over |\n",
       "004x | 74 68 65 20 6c 61 7a 79 |the lazy|\n",
       "005x | 20 64 6f 67 73 2c 20 69 | dogs, i|\n",
       "006x | 6e 20 c3 bc 6e 69 63 6f |n ..nico|\n",
       "007x | c3 90 65 20 21          |..e !   |\n"
      ]
     },
     "execution_count": 94,
     "metadata": {},
     "output_type": "execute_result"
    }
   ],
   "source": [
    "'The quick brown fox jumped over the lazy dogs, in ünicoÐe !'.encode()"
   ]
  },
  {
   "cell_type": "markdown",
   "metadata": {},
   "source": [
    "While it _seem_ to make little sens for text, it does make more send for binary format, like images:"
   ]
  },
  {
   "cell_type": "code",
   "execution_count": 99,
   "metadata": {},
   "outputs": [
    {
     "data": {
      "text/plain": [
       "Bytes array of 50 bytes:\n",
       "\n",
       "hex: | 01 23 45 56 89 AB CD EF | ASCII  |\n",
       "-----|------------------------ |--------|\n",
       "000x | 89 50 4e 47 0d 0a 1a 0a |.PNG....|\n",
       "001x | 00 00 00 0d 49 48 44 52 |....IHDR|\n",
       "002x | 00 00 01 b0 00 00 01 20 |....... |\n",
       "003x | 08 06 00 00 00 d5 28 26 |......(&|\n",
       "004x | 69 00 00 00 04 73 42 49 |i....sBI|\n",
       "005x | 54 08 08 08 08 7c 08 64 |T....|.d|\n",
       "006x | 88 00                   |..      |\n"
      ]
     },
     "execution_count": 99,
     "metadata": {},
     "output_type": "execute_result"
    }
   ],
   "source": [
    "with open('1pxwhiteatthebottom.png', 'rb') as f:\n",
    "    data = f.read()\n",
    "    \n",
    "data[:50]"
   ]
  },
  {
   "cell_type": "markdown",
   "metadata": {},
   "source": [
    "But remember the bytes behing a text make little sens without encoding, so technically the fisrst one make littel sen as well. It _happen_ to display correctly on the screen after printing it. "
   ]
  },
  {
   "cell_type": "code",
   "execution_count": 125,
   "metadata": {},
   "outputs": [
    {
     "data": {
      "text/plain": [
       "<function __main__._print_bytestr>"
      ]
     },
     "execution_count": 125,
     "metadata": {},
     "output_type": "execute_result"
    }
   ],
   "source": [
    "def _print_bytestr(arg, p, cycle):\n",
    "    p.text('<bytes '+ellide(repr(arg))+' at {}>'.format(hex(id(arg))))        \n",
    "text_formatter.for_type(bytes, _print_bytestr)"
   ]
  },
  {
   "cell_type": "code",
   "execution_count": 129,
   "metadata": {},
   "outputs": [
    {
     "data": {
      "text/plain": [
       "<bytes b'This is short an...bytes !' at 0x107c180e0>"
      ]
     },
     "execution_count": 129,
     "metadata": {},
     "output_type": "execute_result"
    }
   ],
   "source": [
    "'This is short and make it easy to see these are bytes !'.encode()"
   ]
  },
  {
   "cell_type": "code",
   "execution_count": null,
   "metadata": {
    "collapsed": true
   },
   "outputs": [],
   "source": []
  }
 ],
 "metadata": {
  "kernelspec": {
   "display_name": "Python 3",
   "language": "python",
   "name": "python3"
  },
  "language_info": {
   "codemirror_mode": {
    "name": "ipython",
    "version": 3
   },
   "file_extension": ".py",
   "mimetype": "text/x-python",
   "name": "python",
   "nbconvert_exporter": "python",
   "pygments_lexer": "ipython3",
   "version": "3.5.2"
  }
 },
 "nbformat": 4,
 "nbformat_minor": 1
}
