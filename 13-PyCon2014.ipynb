{
 "metadata": {
  "name": "",
  "signature": "sha256:bca291503032e577e92a2cd1dab111f6e257a9e74193bc15904e235fef9c8ebd"
 },
 "nbformat": 3,
 "nbformat_minor": 0,
 "worksheets": [
  {
   "cells": [
    {
     "cell_type": "heading",
     "level": 1,
     "metadata": {},
     "source": [
      "Pycon 2014"
     ]
    },
    {
     "cell_type": "markdown",
     "metadata": {},
     "source": [
      "Almost two weeks ago was the beginning of [PyCon 2014](https://us.pycon.org/2014/), I took a break durring the writting of my dissertation to attend, end even if I was a little concerned because it was my first non-scientific-centric Python conference that I attend, I am really happy to have made the choice to go. \n",
      "\n",
      "I'll write what hopefully will be a (short) recap of (my view) of the conference. Maybe not in a perfect chronological order though. "
     ]
    },
    {
     "cell_type": "heading",
     "level": 2,
     "metadata": {},
     "source": [
      "Getting There"
     ]
    },
    {
     "cell_type": "markdown",
     "metadata": {},
     "source": [
      "So this year, PyCon Us was... in Montreal Canada, 7 hour flight from where I leave, in a seat narrower than\n",
      "me, and I'm not that wide. Hopefully there was video on demand. I watched [Gravity](http://www.imdb.com/title/tt1454468/),\n",
      "but I must say I was really desapointed. Beeing a physicist, I saw a **lot** of mistakes that ruinded the movie. Guys, it is worthless to program an engine that simulate physics if you gave it the wrong rules. From basic physics classes you will learn the following : \n",
      "\n",
      "  - Angular momentum conservation also apply in space.\n",
      "  - There is no buoyancy convection, hence no \"flame\" like the one on earth.\n",
      "  - Usually the law of physics don't change with time.\n",
      "    \n",
      "Landing in Canada, Custom were more thorough than US custom. They actually **searched** what PyCon was, and\n",
      "asked me question about it.\n",
      "\n",
      "Going from Airport to Center Montreal was quite easy, direct by bus 747, finding the right stop was harder has the bus driver was announcing stop number, and not name of the station, and no map was availlable in the bus.\n",
      "\n",
      "Hotel was a block away from conference center (but not that easy to find when you enter by\n",
      "the given street adress and not the main entrance).\n",
      "\n",
      "So I was finally settle around 18 hours before the beginning of the tutorials, tweeted to know if anybody was around, meet with [Agam](https://twitter.com/merlinsbrain), get dinner, sleep."
     ]
    },
    {
     "cell_type": "heading",
     "level": 2,
     "metadata": {},
     "source": [
      "Tutorials"
     ]
    },
    {
     "cell_type": "markdown",
     "metadata": {},
     "source": [
      "Durring the first day I was able to attend [two](https://us.pycon.org/2014/schedule/presentation/129/) [tutorials](https://us.pycon.org/2014/schedule/presentation/77/), which I both enjoyed, and allowed me to adjust to the right timezone.\n",
      "1h lunch is just enough to meet with people and discuss, hopefully you get (some) time to discuss and meet people in the evening.\n",
      "\n",
      "I catched up with [Fernando](https://twitter.com/fperez_org) who was giving the IPython tutorial the next day in the morning.\n",
      "\n",
      "Btw, do not forget to update your phones app **before** leaving the country, especially the one you want\n",
      "to use that require textto send you a text when you are abroad and do not get roaming."
     ]
    },
    {
     "cell_type": "markdown",
     "metadata": {},
     "source": [
      "The IPython tutorial on thursday went great, except some really weird installation issues where :\n",
      "\n",
      "  - Anaconda did refuse to install because it is already installed but nowhere on the hardrive,\n",
      "    and in the end, you force miniconda install and do all the dependency by hand.\n",
      "    \n",
      "  - Of course you brought Pendrives to avoid user to download the 300Mb install on conference wifi, but you forgot the Win-Xp-32bit installer.\n",
      "  \n",
      "I was **really** suprised to see people still using IPython 0.12, and modal interface seem to make sens for people having never used IPython. "
     ]
    },
    {
     "cell_type": "heading",
     "level": 2,
     "metadata": {},
     "source": [
      "1h lunch too short, just extend it."
     ]
    },
    {
     "cell_type": "markdown",
     "metadata": {},
     "source": [
      "One thig that really make PyCon so great, (and the python comunity in general are the people)\n",
      "I basically missed many tutorial and talk during the week only because of discussing\n",
      "with people. I must that I learned a lot by discussing with Nick Coghlan and Fernando P\u00e9rez\n",
      "(ok, as a non native english I might have been really quiet, but learned a lot,\n",
      "and I'm gettign better, I'm starting to hear people accents).\n",
      "\n",
      "If you want something on python core, you need to be persistant. By default, anything you will \n",
      "propose to the CPython core comunity/PSF will be refused, but you need to perseverate. If you perseverate \n",
      "then you show the community that you are ready to put time into supporting what you are proposing.\n",
      "\n"
     ]
    },
    {
     "cell_type": "code",
     "collapsed": false,
     "input": [],
     "language": "python",
     "metadata": {},
     "outputs": []
    }
   ],
   "metadata": {}
  }
 ]
}