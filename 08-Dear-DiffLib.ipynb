{
 "cells": [
  {
   "cell_type": "markdown",
   "metadata": {},
   "source": [
    "# Dear difflib, What The F@&#! ?"
   ]
  },
  {
   "cell_type": "markdown",
   "metadata": {},
   "source": [
    "## TL,DR:"
   ]
  },
  {
   "cell_type": "markdown",
   "metadata": {},
   "source": [
    "Acording to difflib, the following strings: 'baaaaa', 'aaabaa' and 'aaaaba' share 5 caracters with 'aaaaaa', but 'aabaaa' share only 3 .... but only if the change is in the first half of the string."
   ]
  },
  {
   "cell_type": "code",
   "execution_count": 1,
   "metadata": {
    "collapsed": false
   },
   "outputs": [
    {
     "name": "stdout",
     "output_type": "stream",
     "text": [
      "5\n",
      "4\n",
      "3\n",
      "5\n",
      "- Control -\n",
      "6\n"
     ]
    }
   ],
   "source": [
    "import difflib\n",
    "print sum(x.size for x in difflib.SequenceMatcher(None, '-aaaaa', 'aaaaaa').get_matching_blocks())\n",
    "print sum(x.size for x in difflib.SequenceMatcher(None, 'a-aaaa', 'aaaaaa').get_matching_blocks())\n",
    "print sum(x.size for x in difflib.SequenceMatcher(None, 'aa-aaa', 'aaaaaa').get_matching_blocks())\n",
    "print sum(x.size for x in difflib.SequenceMatcher(None, 'aaa-aa', 'aaaaaa').get_matching_blocks())\n",
    "print '- Control -'\n",
    "print sum(x.size for x in difflib.SequenceMatcher(None, 'aaaaaa', 'aaaaaa').get_matching_blocks())\n"
   ]
  },
  {
   "cell_type": "markdown",
   "metadata": {},
   "source": [
    "It only get weirder and more fractal if you read the rest"
   ]
  },
  {
   "cell_type": "markdown",
   "metadata": {},
   "source": [
    "## Context"
   ]
  },
  {
   "cell_type": "markdown",
   "metadata": {},
   "source": [
    "A few weeks back I was in [EuroSciPy](http://euroscipy.org), where I had to dive a little deeper than usual into difflib.\n",
    "Indead, one often requested feature in [IPython](http://ipython.org) is to be able to diff notebooks, so I started looking at how this can be done. Thanks to [@MinRK](http://github.com/minrk) for helping me figuring out the rest of this post and give me some nices ideas of graphs.\n",
    "\n",
    "Naturaly I turned myself toward [difflib] :\n",
    "\n",
    "\n",
    "> This module provides classes and functions for comparing sequences. It can be used for example, for comparing files, and can produce difference information in various formats, including HTML and context and unified diffs. For comparing directories and files, see also, the filecmp module.\n",
    "\n",
    "[difflib]: http://docs.python.org/2/library/difflib.html\n",
    "\n",
    "More especially, I am interested in [`SequenceMatcher`](http://docs.python.org/2/library/difflib.html#difflib.SequenceMatcher) which aims to be : \n",
    "\n",
    "> [...] a flexible class for comparing pairs of sequences of any type, so long as the sequence elements are hashable."
   ]
  },
  {
   "cell_type": "markdown",
   "metadata": {},
   "source": [
    "It is also explicitely state that generated diff might not be minimal, but might looks more  \"human readable\" than classical diff (emphasis mine). \n",
    "\n",
    "> The basic algorithm [..] is a little fancier than,[...] \u201cgestalt pattern matching.\u201d The idea is to find the longest contiguous matching subsequence that contains no \u201cjunk\u201d elements [...]. The same idea is then applied recursively to the pieces of the sequences to the left and to the right of the matching subsequence. This **does not yield minimal edit sequences**, but does tend to yield matches that **\u201clook right\u201d** to people.\n"
   ]
  },
  {
   "cell_type": "markdown",
   "metadata": {},
   "source": [
    "To do that, we need to define \"junk\" which are things you don't want the algorithme to match on. \n",
    "Let see a common example in python where when you add a function with a derorator, the decorator is often added to the \"next\" function."
   ]
  },
  {
   "cell_type": "code",
   "execution_count": 2,
   "metadata": {
    "collapsed": false
   },
   "outputs": [],
   "source": [
    "s1 = \"\"\"\n",
    "@decorate\n",
    "def fun1():\n",
    "    return 1\n",
    "    \n",
    "@decorate\n",
    "def fun3():\n",
    "    return 3\n",
    "\"\"\"\n",
    "\n",
    "s2 = \"\"\"\n",
    "@decorate\n",
    "def fun1():\n",
    "    return 1\n",
    "    \n",
    "@decorate\n",
    "def fun2():\n",
    "    return 2\n",
    "    \n",
    "@decorate\n",
    "def fun3():\n",
    "    return 3\n",
    "\"\"\""
   ]
  },
  {
   "cell_type": "markdown",
   "metadata": {},
   "source": [
    "Classical diff"
   ]
  },
  {
   "cell_type": "code",
   "execution_count": 3,
   "metadata": {
    "collapsed": false
   },
   "outputs": [
    {
     "name": "stdout",
     "output_type": "stream",
     "text": [
      "  \n",
      "  @decorate\n",
      "  def fun1():\n",
      "      return 1\n",
      "      \n",
      "  @decorate\n",
      "+ def fun2():\n",
      "+     return 2\n",
      "+     \n",
      "+ @decorate\n",
      "  def fun3():\n",
      "      return 3\n",
      "\n"
     ]
    }
   ],
   "source": [
    "import difflib\n",
    "print ''.join(difflib.ndiff(s1.splitlines(1), s2.splitlines(1)))"
   ]
  },
  {
   "cell_type": "markdown",
   "metadata": {},
   "source": [
    "Now we will tell it that blank line are junk:"
   ]
  },
  {
   "cell_type": "code",
   "execution_count": 4,
   "metadata": {
    "collapsed": false
   },
   "outputs": [
    {
     "name": "stdout",
     "output_type": "stream",
     "text": [
      "  \n",
      "  @decorate\n",
      "  def fun1():\n",
      "      return 1\n",
      "      \n",
      "+ @decorate\n",
      "+ def fun2():\n",
      "+     return 2\n",
      "+     \n",
      "  @decorate\n",
      "  def fun3():\n",
      "      return 3\n",
      "\n"
     ]
    }
   ],
   "source": [
    "blankline = lambda x:x.strip() ==''\n",
    "print ''.join(difflib.ndiff(s1.splitlines(1), s2.splitlines(1), linejunk=blankline))"
   ]
  },
  {
   "cell_type": "markdown",
   "metadata": {},
   "source": [
    "This is clearly better, as hunk do not have blank lines in the midlle, but more on sides."
   ]
  },
  {
   "cell_type": "markdown",
   "metadata": {},
   "source": [
    "## Where it gets weird"
   ]
  },
  {
   "cell_type": "markdown",
   "metadata": {},
   "source": [
    "Things is, `SequenceMatcher` is also the method that help you get the proximity between two strings.\n",
    "If the sequence you pass to `SequenceMatcher` is a string, it will try to match each caracters."
   ]
  },
  {
   "cell_type": "code",
   "execution_count": 5,
   "metadata": {
    "collapsed": false
   },
   "outputs": [],
   "source": [
    "from difflib import SequenceMatcher"
   ]
  },
  {
   "cell_type": "code",
   "execution_count": 6,
   "metadata": {
    "collapsed": false
   },
   "outputs": [
    {
     "name": "stdout",
     "output_type": "stream",
     "text": [
      "0.0\n",
      "0.0\n"
     ]
    }
   ],
   "source": [
    "print SequenceMatcher('hello world','hello world').ratio()\n",
    "print SequenceMatcher('xyz','abc').ratio()"
   ]
  },
  {
   "cell_type": "markdown",
   "metadata": {},
   "source": [
    "Oh, sorry, you need to explicitelty, pass the `isjunk` function. Hopefully, it accepts `None`."
   ]
  },
  {
   "cell_type": "code",
   "execution_count": 7,
   "metadata": {
    "collapsed": false
   },
   "outputs": [
    {
     "name": "stdout",
     "output_type": "stream",
     "text": [
      "1.0\n",
      "0.0\n"
     ]
    }
   ],
   "source": [
    "print SequenceMatcher(None, 'hello world','hello world').ratio()\n",
    "print SequenceMatcher(None, 'xyz','abc').ratio()"
   ]
  },
  {
   "cell_type": "markdown",
   "metadata": {},
   "source": [
    "Ok, that's better, it goes from 0.0 for completely different strings (nothing in common) to 1.0 for perfectly matching strings.\n",
    "\n",
    "API is weird, but for compatibility we keep the old one... fine with me"
   ]
  },
  {
   "cell_type": "markdown",
   "metadata": {},
   "source": [
    "let's try longer..."
   ]
  },
  {
   "cell_type": "code",
   "execution_count": 8,
   "metadata": {
    "collapsed": false
   },
   "outputs": [
    {
     "name": "stdout",
     "output_type": "stream",
     "text": [
      "0.0\n"
     ]
    }
   ],
   "source": [
    "print SequenceMatcher(None, 'y'+'abc'*150,'x'+'abc'*150).ratio()"
   ]
  },
  {
   "cell_type": "markdown",
   "metadata": {},
   "source": [
    "Still, don't pass it strings longer than 200 char, it automatically detect junk... Yes this is documented, but not obvisous."
   ]
  },
  {
   "cell_type": "code",
   "execution_count": 9,
   "metadata": {
    "collapsed": false
   },
   "outputs": [
    {
     "name": "stdout",
     "output_type": "stream",
     "text": [
      "0.9977827051\n"
     ]
    }
   ],
   "source": [
    "print SequenceMatcher(None, 'y'+'abc'*150,'x'+'abc'*150, autojunk=False).ratio()"
   ]
  },
  {
   "cell_type": "markdown",
   "metadata": {},
   "source": [
    "So let's define a custom SequenceMatcher that make sens for the rest of the post, so that `isjunk`is `None` by default, and no `autojunk` for `n > 200`, and a simple `ratio(a, b)` method as a shortcut."
   ]
  },
  {
   "cell_type": "code",
   "execution_count": 10,
   "metadata": {
    "collapsed": false
   },
   "outputs": [],
   "source": [
    "def MySequenceMatcher( seq1, seq2, isjunk=None, autojunk=False):\n",
    "    return SequenceMatcher(isjunk, seq1, seq2, autojunk=autojunk)\n",
    "\n",
    "def ratio(a,b):\n",
    "    return MySequenceMatcher(a,b).ratio()"
   ]
  },
  {
   "cell_type": "code",
   "execution_count": 10,
   "metadata": {
    "collapsed": false
   },
   "outputs": [
    {
     "name": "stdout",
     "output_type": "stream",
     "text": [
      "1.0\n",
      "0.75\n"
     ]
    }
   ],
   "source": [
    "print ratio('abc','abc')\n",
    "print ratio('abcd','abcf')\n"
   ]
  },
  {
   "cell_type": "markdown",
   "metadata": {},
   "source": [
    "## Where it gets weirder"
   ]
  },
  {
   "cell_type": "markdown",
   "metadata": {},
   "source": [
    "I'll probably won't go into how we found out the following, but for some reason `ratio(a,b)` was different from `ratio(reversed(a),reversed(b))`, that is to say `ratio('ab...yz','ab...yz') != ratio('zy...ba','zy...ba')` in some case. "
   ]
  },
  {
   "cell_type": "markdown",
   "metadata": {},
   "source": [
    "So let's look at what happend if we compare a string against itself, with only one modification, as a function as the position of the modification, that is to say the ratio of `aaaa...` vs `baaa...` vs `abaa...` vs `aaba...`"
   ]
  },
  {
   "cell_type": "code",
   "execution_count": 11,
   "metadata": {
    "collapsed": false
   },
   "outputs": [],
   "source": [
    "%matplotlib inline\n",
    "import matplotlib\n",
    "import matplotlib.pyplot as plt"
   ]
  },
  {
   "cell_type": "code",
   "execution_count": 12,
   "metadata": {
    "collapsed": false
   },
   "outputs": [
    {
     "name": "stdout",
     "output_type": "stream",
     "text": [
      "aaaaaaaaaa ...\n",
      "aaaaaaaaaa ...\n",
      "-aaaaaaaaa ...\n",
      "a-aaaaaaaa ...\n",
      "aa-aaaaaaa ...\n",
      "aaa-aaaaaa ...\n",
      "aaaa-aaaaa ...\n",
      "aaaaa-aaaa ...\n",
      "aaaaaa-aaa ...\n",
      "aaaaaaa-aa ...\n",
      "aaaaaaaa-a ...\n",
      "..............\n"
     ]
    },
    {
     "data": {
      "text/plain": [
       "<matplotlib.text.Text at 0x1037590d0>"
      ]
     },
     "execution_count": 12,
     "metadata": {},
     "output_type": "execute_result"
    },
    {
     "data": {
      "image/png": "[encoded data removed]",
      "text/plain": [
       "<matplotlib.figure.Figure at 0x103754c90>"
      ]
     },
     "metadata": {},
     "output_type": "display_data"
    }
   ],
   "source": [
    "n = 100\n",
    "step = 1\n",
    "s1 = u'a'*n\n",
    "r = lambda x : ratio(x, s1)\n",
    "\n",
    "def modified(i):\n",
    "    \"\"\" return the string s1, where the i-th is replaced by -\"\"\"\n",
    "    return s1[:i-1]+u'-'+s1[i+1:]\n",
    "\n",
    "xx = range(1, n, step)\n",
    "\n",
    "\n",
    "print(s1[:10]),'...'\n",
    "for i in range(10):\n",
    "    print(modified(i)[:10]),'...'\n",
    "print('..............')\n",
    "distance = map( r, [modified(i) for i in xx])\n",
    "\n",
    "plt.plot(xx, distance)\n",
    "plt.ylabel('similarity')\n",
    "plt.xlabel('position of modified caracter')"
   ]
  },
  {
   "cell_type": "markdown",
   "metadata": {},
   "source": [
    "WWWHHHHAAAAAT ???"
   ]
  },
  {
   "cell_type": "markdown",
   "metadata": {},
   "source": [
    "Hum..let's look with some other string, basically same as before, but with repeating sequence `ababab..`, `abcabcabcabc...`"
   ]
  },
  {
   "cell_type": "code",
   "execution_count": 13,
   "metadata": {
    "collapsed": false
   },
   "outputs": [],
   "source": [
    "import string"
   ]
  },
  {
   "cell_type": "code",
   "execution_count": 14,
   "metadata": {
    "collapsed": false
   },
   "outputs": [
    {
     "data": {
      "text/plain": [
       "<matplotlib.legend.Legend at 0x103b97ed0>"
      ]
     },
     "execution_count": 14,
     "metadata": {},
     "output_type": "execute_result"
    },
    {
     "data": {
      "image/png": "[encoded data removed]",
      "text/plain": [
       "<matplotlib.figure.Figure at 0x103754410>"
      ]
     },
     "metadata": {},
     "output_type": "display_data"
    }
   ],
   "source": [
    "def test_rep(k=1, n=128):\n",
    "    s1 = string.letters[:k]*int(n/k*2)\n",
    "    s1 = s1[:n]\n",
    "    r = lambda x : ratio(x, s1)\n",
    "    \n",
    "    def modified(i):\n",
    "        \"\"\" return the string s1, where the i-th is replaced by -\"\"\"\n",
    "        return s1[:i-1]+u'-'+s1[i+1:]\n",
    "    \n",
    "    xx = range(1, n, step)\n",
    "    distance = map( r, [modified(i) for i in xx])\n",
    "    return xx,distance\n",
    "\n",
    "fig,ax = plt.subplots(1,1)\n",
    "fig.set_figwidth(16)\n",
    "fig.set_figheight(8)\n",
    "\n",
    "for k in [1,2,4,8,16,32]:\n",
    "    xx, distance = test_rep(k, n=64)\n",
    "    plt.step(xx, distance, where='post', label='k={k}'.format(k=k))\n",
    "    \n",
    "\n",
    "plt.ylabel('similarity')\n",
    "plt.xlabel('position of modified caracter')\n",
    "plt.legend(loc=4)"
   ]
  },
  {
   "cell_type": "markdown",
   "metadata": {},
   "source": [
    "(bottom of the graph is at 0.5, not 0.0)"
   ]
  },
  {
   "cell_type": "markdown",
   "metadata": {},
   "source": [
    "Huummm... this definitively does not look at what I was expecting (mainly something constant), but looks more like a [Sierpinski triangle](http://en.wikipedia.org/wiki/Sierpinski_triangle) to me."
   ]
  },
  {
   "cell_type": "markdown",
   "metadata": {},
   "source": [
    "Bottom line, even if difflib make some pretty looking diff, I cannot trust it for giving me proximity of two sequences."
   ]
  },
  {
   "cell_type": "markdown",
   "metadata": {},
   "source": [
    "## Still Some good sides..."
   ]
  },
  {
   "cell_type": "markdown",
   "metadata": {},
   "source": [
    "Anyway, I knew what [levenstein distance](http://en.wikipedia.org/wiki/Levenshtein_distance) was, but not really\n",
    "what the efficient algorithme where. I played around a little bit with them, and recoded them in pure python.\n",
    "I'll post the link soon, just time to clean things up im make them as pure python module. Below is how it looks like.\n",
    "\n",
    "Thing is, as far as I can tell, libdiff stays an order of magnitude faster in some cases, as well as computes the matches at the same time."
   ]
  },
  {
   "cell_type": "code",
   "execution_count": 15,
   "metadata": {
    "collapsed": false
   },
   "outputs": [],
   "source": [
    "def lcs_len3(Seq1 , Seq2):\n",
    "    \"\"\" Compute the LCS len 2 sequences\n",
    "    \n",
    "    Do not calculate the matrix and try to be as efficient as possible \n",
    "    in storing only the minimal ammount of elelment in memory, mainly the previous\n",
    "    matrix row + 1 element.\n",
    "    \"\"\"\n",
    "    LL1 = len(Seq1)+1\n",
    "    LL2 = len(Seq2)+1\n",
    "\n",
    "    ## we will do the big loop over the longest sequence (L1)\n",
    "    ## and store the previous row of the matrix (L2+1)\n",
    "    if LL2 > LL1 : \n",
    "        Seq2, Seq1 = Seq1, Seq2\n",
    "        LL2, LL1 = LL1, LL2\n",
    "\n",
    "    \n",
    "    previousrow = [0]*(LL2)\n",
    "    cindex = 0\n",
    "\n",
    "    for Seq1ii in Seq1:\n",
    "        for jj in range(1,LL2):\n",
    "            cindex = (cindex+1) % LL2\n",
    "\n",
    "            if Seq1ii == Seq2[jj-1]:\n",
    "                if jj == 1:\n",
    "                    previousrow[cindex] = 1\n",
    "                else :\n",
    "                    previousrow[cindex]+=1\n",
    "            if Seq1ii != Seq2[jj-1] :\n",
    "                up = previousrow[(cindex+1) % LL2]\n",
    "                \n",
    "                if jj != 1 :\n",
    "                    left = previousrow[(cindex-1) % LL2]\n",
    "                    if left > up :\n",
    "                        previousrow[cindex] = left\n",
    "                        continue    \n",
    "                previousrow[cindex] = up\n",
    "\n",
    "\n",
    "    return previousrow[cindex]"
   ]
  },
  {
   "cell_type": "code",
   "execution_count": 16,
   "metadata": {
    "collapsed": false
   },
   "outputs": [],
   "source": [
    "import numpy as np\n",
    "import difflib"
   ]
  },
  {
   "cell_type": "code",
   "execution_count": 17,
   "metadata": {
    "collapsed": false
   },
   "outputs": [
    {
     "name": "stdout",
     "output_type": "stream",
     "text": [
      "random x 4 8\n",
      "sorted \u221a 23 23\n",
      "random x 4 9\n",
      "sorted \u221a 26 26\n",
      "random x 6 10\n",
      "sorted \u221a 25 25\n",
      "random x 4 12\n",
      "sorted \u221a 27 27\n",
      "random x 5 7\n",
      "sorted \u221a 27 27\n",
      "random x 7 10\n",
      "sorted \u221a 30 30\n",
      "random x 6 13\n",
      "sorted \u221a 33 33\n",
      "random x 9 10\n",
      "sorted \u221a 25 25\n",
      "random x 2 7\n",
      "sorted \u221a 28 28\n",
      "random x 5 10\n",
      "sorted \u221a 27 27\n"
     ]
    }
   ],
   "source": [
    "def compare(s1,s2):\n",
    "    m0 = difflib.SequenceMatcher(None, s1, s2, autojunk=False).get_matching_blocks()\n",
    "    m1 = lcs_len3(s1,s2)\n",
    "    a,b = sum([x.size for x in m0]),m1\n",
    "    return a,b \n",
    "\n",
    "for k in range(10):\n",
    "    s1 = np.random.randint(0,250, 100)\n",
    "    s2 = np.random.randint(0,250, 100)\n",
    "    a,b = compare(s1,s2)\n",
    "    print 'random',u'\u221a' if a == b else 'x',a,b\n",
    "    a,b = compare(sorted(s1),sorted(s2))\n",
    "    print 'sorted',u'\u221a' if a == b else 'x',a,b\n",
    "    "
   ]
  },
  {
   "cell_type": "markdown",
   "metadata": {},
   "source": [
    "Except on the sorted case, SequenceMatcher from stdlib give the wrong matches length almost all the time (sometime it is right)"
   ]
  },
  {
   "cell_type": "code",
   "execution_count": 18,
   "metadata": {
    "collapsed": false
   },
   "outputs": [
    {
     "name": "stdout",
     "output_type": "stream",
     "text": [
      "1000 loops, best of 3: 402 \u00b5s per loop\n",
      "100 loops, best of 3: 9.38 ms per loop\n",
      "--------- sorted ----------\n",
      "1000 loops, best of 3: 734 \u00b5s per loop\n",
      "100 loops, best of 3: 9.33 ms per loop\n"
     ]
    }
   ],
   "source": [
    "%timeit difflib.SequenceMatcher(None, s1, s2, autojunk=False).get_matching_blocks()\n",
    "%timeit lcs_len3(s1,s2)\n",
    "print '--------- sorted ----------'\n",
    "s1.sort()\n",
    "s2.sort()\n",
    "%timeit difflib.SequenceMatcher(None, s1, s2, autojunk=False).get_matching_blocks()\n",
    "%timeit lcs_len3(s1,s2)"
   ]
  },
  {
   "cell_type": "markdown",
   "metadata": {},
   "source": [
    "On both sorted and unsorted arrays, SequenceMatcher is way faster (10 to 20 times) than I am, but wrong."
   ]
  },
  {
   "cell_type": "code",
   "execution_count": 19,
   "metadata": {
    "collapsed": false
   },
   "outputs": [
    {
     "name": "stdout",
     "output_type": "stream",
     "text": [
      "10 loops, best of 3: 26 ms per loop\n",
      "10 loops, best of 3: 30.8 ms per loop\n"
     ]
    }
   ],
   "source": [
    "s1 = 'a'*251\n",
    "i = 124\n",
    "s2 = 'a'*(i)+'b'+'a'*(250-i)\n",
    "%timeit MySequenceMatcher(s1, s2).get_matching_blocks()        \n",
    "%timeit lcs_len3(s1,s2)"
   ]
  },
  {
   "cell_type": "code",
   "execution_count": 20,
   "metadata": {
    "collapsed": false
   },
   "outputs": [
    {
     "data": {
      "text/plain": [
       "126"
      ]
     },
     "execution_count": 20,
     "metadata": {},
     "output_type": "execute_result"
    }
   ],
   "source": [
    "sum(x.size for x in MySequenceMatcher(s1, s2).get_matching_blocks())"
   ]
  },
  {
   "cell_type": "markdown",
   "metadata": {},
   "source": [
    "But in the cases where `SequenceMatcher` is clearly wrong for the **optimal** sequence, we are around the same time to execute."
   ]
  },
  {
   "cell_type": "markdown",
   "metadata": {},
   "source": [
    "Not that I don't like current python libdiff, but I hope to be able to build a lower lever library (pure python of course) without any surprise behavior, on which maby one can rebuild the current libdiff and avoid to rely on [regular expression](http://hg.python.org/cpython/file/0872257752c2/Lib/difflib.py#l1371) to parse the output of another function. \n",
    "\n",
    "I'll be happy to get any tips to make it faster, of course it is not possible in all the cases but I'm sure we can figure it out."
   ]
  },
  {
   "cell_type": "markdown",
   "metadata": {},
   "source": [
    "---\n",
    "\n",
    "As usual comments, typo and PRs welcommed on the [repo that host thoses notebooks](https://github.com/Carreau/posts/issues). I should probably learn how to use [Pelican](http://docs.getpelican.com/en/3.2/) now that it [support notebooks](https://github.com/getpelican/pelican-plugins/pull/21).\n",
    "\n",
    "---"
   ]
  },
  {
   "cell_type": "markdown",
   "metadata": {},
   "source": [
    "**Edit**:  At the request of some person, I opened a place to **[comment on this post](https://github.com/Carreau/posts/issues/2)** until I turn it into a real blogpost."
   ]
  }
 ],
 "metadata": {
  "kernelspec": {
   "display_name": "IPython (Python 3)",
   "name": "python3"
  },
  "language_info": {
   "codemirror_mode": {
    "name": "ipython",
    "version": 3
   },
   "file_extension": ".py",
   "mimetype": "text/x-python",
   "name": "python",
   "nbconvert_exporter": "python",
   "pygments_lexer": "ipython3"
  }
 },
 "nbformat": 4,
 "nbformat_minor": 0
}