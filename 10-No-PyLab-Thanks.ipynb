{
 "metadata": {
  "name": ""
 },
 "nbformat": 3,
 "nbformat_minor": 0,
 "worksheets": [
  {
   "cells": [
    {
     "cell_type": "heading",
     "level": 1,
     "metadata": {},
     "source": [
      "Please Stop using Pylab"
     ]
    },
    {
     "cell_type": "markdown",
     "metadata": {},
     "source": [
      "TL;DR, Please stop advising people to use the `pylab` flag when using IPython.\n",
      "It is harmful. If you want to help IPython, try to avoid retweeting, and\n",
      "promoting thing that use `pylab` flag and make the authors aware of the issues.\n",
      "\n",
      "\n",
      "This is mainly prompt by a day where I came across consecutive issues due to\n",
      "the pylab flag, and people happy to discover it.\n"
     ]
    },
    {
     "cell_type": "heading",
     "level": 2,
     "metadata": {},
     "source": [
      "Pylab, My worst friend"
     ]
    },
    {
     "cell_type": "markdown",
     "metadata": {},
     "source": [
      "Almost 6 month ago was released IPython 1.0, we had quite a lot of decisions to\n",
      "take in less than a week and loads of discusions at the last moment. One of\n",
      "them come and goes often: we want to get rid of this stupid `pylab` flag. If\n",
      "you look at our stable (1.0),dev doc and examples there shouldn't be\n",
      "anywhere mention of the `pylab` flag. If there is, we will quickly remove it.\n",
      "Why? Because it is harmful, first to us, then to new user, also to python\n",
      "community, and finally to research in general. "
     ]
    },
    {
     "cell_type": "markdown",
     "metadata": {},
     "source": [
      "Do you know about pylab ? If you don't please be extra careful and try to avoid it as much as possible.\n",
      "It is like smoking, it looks cool at first then after a few years you realise you can live without it, \n",
      "but it make you sick. \n",
      "\n",
      "You think you know what `pylab` does ? really ? Take few second to think what `pylab`flag is doing , then read the rest."
     ]
    },
    {
     "cell_type": "heading",
     "level": 2,
     "metadata": {},
     "source": [
      "What is it supposed to do ?"
     ]
    },
    {
     "cell_type": "markdown",
     "metadata": {},
     "source": [
      "The `pylab` **package** goal was mainly to build a [transition tool](http://wiki.scipy.org/PyLab) \n",
      "from other languages to python. As it was more and more common and painull to do the same import \n",
      "in IPython every time when only the IPython shell was around, the `--pylab` flag was added. Basically it did the following :\n",
      "\n",
      "```python\n",
      "import numpy\n",
      "import matplotlib\n",
      "from matplotlib import pylab, mlab, pyplot\n",
      "np = numpy\n",
      "plt = pyplot\n",
      "\n",
      "from IPython.core.pylabtools import figsize, getfigs\n",
      "\n",
      "from pylab import *\n",
      "from numpy import *\n",
      "```\n",
      "\n",
      "Did you get it right the first time without cheating ? Are you able to say what has been imported\n",
      "in `from pylab import *` ? in `from numpy import *` ?\n",
      "\n",
      "\n",
      "Of course that not the only thing it does. But was it your intention to do that last time you used pylab ? "
     ]
    },
    {
     "cell_type": "heading",
     "level": 3,
     "metadata": {},
     "source": [
      "It is Irreversible"
     ]
    },
    {
     "cell_type": "markdown",
     "metadata": {},
     "source": [
      "Once you did activate pylab mode, there is no going back. You cannot unimport\n",
      "things. Of course with the `%pylab` magic you can always restart your kernel,\n",
      "but with the flag, all your kernels will start in pylab mode. Are you **sure**\n",
      "you will not need a non-pylab kernel ?"
     ]
    },
    {
     "cell_type": "heading",
     "level": 3,
     "metadata": {},
     "source": [
      "Unclear"
     ]
    },
    {
     "cell_type": "markdown",
     "metadata": {},
     "source": [
      "When using the flag your audience has usually no way of knowing that you did\n",
      "use the flag.  If I use `plot(range(10))` now what will happened ? Will it pop a\n",
      "figure ? Inline it? or throw an error ?\n"
     ]
    },
    {
     "cell_type": "code",
     "collapsed": false,
     "input": [
      "plot(range(10))"
     ],
     "language": "python",
     "metadata": {},
     "outputs": []
    },
    {
     "cell_type": "markdown",
     "metadata": {},
     "source": [
      "Because I'm mean, I won't execute the cell, so that you don't know whether or\n",
      "not I'm running in pylab mode or not. You might think it's not a big deal, but\n",
      "when teaching and  research it is important to communicate what you are doing. "
     ]
    },
    {
     "cell_type": "heading",
     "level": 3,
     "metadata": {},
     "source": [
      "It polute namespace"
     ]
    },
    {
     "cell_type": "code",
     "collapsed": false,
     "input": [
      "len(get_ipython().user_ns.keys())"
     ],
     "language": "python",
     "metadata": {},
     "outputs": [
      {
       "metadata": {},
       "output_type": "pyout",
       "prompt_number": 1,
       "text": [
        "20"
       ]
      }
     ],
     "prompt_number": 1
    },
    {
     "cell_type": "code",
     "collapsed": false,
     "input": [
      "%pylab"
     ],
     "language": "python",
     "metadata": {},
     "outputs": [
      {
       "output_type": "stream",
       "stream": "stdout",
       "text": [
        "Using matplotlib backend: Agg\n",
        "Populating the interactive namespace from numpy and matplotlib\n"
       ]
      }
     ],
     "prompt_number": 2
    },
    {
     "cell_type": "markdown",
     "metadata": {},
     "source": [
      "IPython 2.0-dev give some warning, and tell you wether it clobers already non-built-ins varaibles in user namespace."
     ]
    },
    {
     "cell_type": "code",
     "collapsed": false,
     "input": [
      "len(get_ipython().user_ns.keys())"
     ],
     "language": "python",
     "metadata": {},
     "outputs": [
      {
       "metadata": {},
       "output_type": "pyout",
       "prompt_number": 3,
       "text": [
        "968"
       ]
      }
     ],
     "prompt_number": 3
    },
    {
     "cell_type": "markdown",
     "metadata": {},
     "source": [
      "Can you really give me the 948 things you know have in your namespace ? Not a big deal ? really ? "
     ]
    },
    {
     "cell_type": "heading",
     "level": 3,
     "metadata": {},
     "source": [
      "It replaces built-ins"
     ]
    },
    {
     "cell_type": "code",
     "collapsed": false,
     "input": [
      "sum,all"
     ],
     "language": "python",
     "metadata": {},
     "outputs": [
      {
       "metadata": {},
       "output_type": "pyout",
       "prompt_number": 6,
       "text": [
        "(<function numpy.core.fromnumeric.sum>, <function numpy.core.fromnumeric.all>)"
       ]
      }
     ],
     "prompt_number": 6
    },
    {
     "cell_type": "markdown",
     "metadata": {},
     "source": [
      "both used to be `<function sum>,<function all>` before using pylab, and this **change the behavior of programs !**"
     ]
    },
    {
     "cell_type": "markdown",
     "metadata": {},
     "source": [
      "like for example leads to non-pickable object in some cases :\n",
      "\n",
      "\n",
      "@treycausey on Twitter\n",
      "\n",
      "> @ogrisel @myusuf3 Ah, very curious. It loads fine in IPython but not in an IPython notebook. I must have a namespace collision or something.\n",
      "\n",
      "me :\n",
      "> let me guess : `$ipython notebook --pylab` ? but `$ipython` alone ?"
     ]
    },
    {
     "cell_type": "heading",
     "level": 3,
     "metadata": {},
     "source": [
      "Other unrelated actions"
     ]
    },
    {
     "cell_type": "markdown",
     "metadata": {},
     "source": [
      "IPython developped and got the rich display protocol. So we added `from IPython.display import display` to the import pylab does.\n",
      "\n",
      "As matplotlib can work with different evenloop, pylab grew option to activate qt/gtk/osx... event loop, and with the QtConsole and Notebook creation the ability to select the inline backend, which register display hooks."
     ]
    },
    {
     "cell_type": "markdown",
     "metadata": {},
     "source": [
      "The main tings users remember, and often the main message that you can read here and there is that:\n",
      "\n",
      "> You need to use Pylab to get inline figures.\n",
      "\n",
      "Which is **false**. Inline pylab mode is a convenient method to have inline back, and display hook setup with matplotlib. You do not need pylab to have inline images, nor do you need matplotlib. \n",
      "With 1.0 and above the recomended way to set-up inline figure woudl be to use `%matplotlib`.\n"
     ]
    },
    {
     "cell_type": "heading",
     "level": 3,
     "metadata": {},
     "source": [
      "Side Effects"
     ]
    },
    {
     "cell_type": "markdown",
     "metadata": {},
     "source": [
      "The worse is it have the side effect of forming people who use `pylab` without even knowing it. Later they start asking question on how to reuse a graph in matplotlib because no-one ever encounter the following anymore.\n",
      "\n",
      "```\n",
      "fig,ax = subplots(1,1)\n",
      "ax.plot(...)\n",
      "```\n",
      "\n",
      "or why sudentyl their script does not in plain python but does on ipython.\n"
     ]
    },
    {
     "cell_type": "heading",
     "level": 3,
     "metadata": {},
     "source": [
      "It kills kitten, with a spoon..."
     ]
    },
    {
     "cell_type": "markdown",
     "metadata": {},
     "source": [
      "Maybe not kittens, but it will force dev to explain the same things, again, and again, and again..."
     ]
    },
    {
     "cell_type": "code",
     "collapsed": false,
     "input": [
      "from IPython.display import YouTubeVideo\n",
      "YouTubeVideo('9VDvgL58h_Y',start=4*60+27)"
     ],
     "language": "python",
     "metadata": {},
     "outputs": [
      {
       "html": [
        "\n",
        "        <iframe\n",
        "            width=\"400\"\n",
        "            height=300\"\n",
        "            src=\"http://www.youtube.com/embed/9VDvgL58h_Y?start=267\"\n",
        "            frameborder=\"0\"\n",
        "            allowfullscreen\n",
        "        ><p>There was a problem loading this remote IFrame, have a look as Javascript console</p></iframe>\n",
        "        "
       ],
       "metadata": {},
       "output_type": "pyout",
       "prompt_number": 8,
       "text": [
        "<IPython.lib.display.YouTubeVideo at 0x10c570050>"
       ]
      }
     ],
     "prompt_number": 8
    },
    {
     "cell_type": "heading",
     "level": 2,
     "metadata": {},
     "source": [
      "Make `--pylab` disapear."
     ]
    },
    {
     "cell_type": "markdown",
     "metadata": {},
     "source": [
      "Of course we will not make the `--pylab` flag disapear for compatbility reason, but please, for 2014, take the following resolutions:\n",
      "\n",
      " - Use `%matplotlib [inline|qt|osx|gtx]` to select the right backend/eventlook.\n",
      " - Use explicit import\n",
      " - Make people aware of the issues\n",
      " - Help having no new article/tutorials that mention `--pylab`\n",
      " \n",
      "If really you only [have 10 seconds left](https://xkcd.com/1168/) the `%pylab` magic is ok."
     ]
    }
   ],
   "metadata": {}
  }
 ]
}