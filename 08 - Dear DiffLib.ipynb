{
 "metadata": {
  "name": ""
 },
 "nbformat": 3,
 "nbformat_minor": 0,
 "worksheets": [
  {
   "cells": [
    {
     "cell_type": "heading",
     "level": 1,
     "metadata": {},
     "source": [
      "Dear difflib, What The F@&#! ?"
     ]
    },
    {
     "cell_type": "markdown",
     "metadata": {},
     "source": [
      "A few weeks back I was in [EuroSciPy](http://euroscipy.org), where I had to dive a little deeper than usual into difflib.\n",
      "Indead, one often requested feature in [IPython](http://ipython.org) is to be able to diff notebooks, so I started looking at how this can be done. \n",
      "\n",
      "Naturaly I turned myself toward [difflib] :\n",
      "\n",
      "\n",
      "> This module provides classes and functions for comparing sequences. It can be used for example, for comparing files, and can produce difference information in various formats, including HTML and context and unified diffs. For comparing directories and files, see also, the filecmp module.\n",
      "\n",
      "[difflib]: http://docs.python.org/2/library/difflib.html\n",
      "\n",
      "More especially, I am interested in [`SequenceMatcher`](http://docs.python.org/2/library/difflib.html#difflib.SequenceMatcher) which aims to be : \n",
      "\n",
      "> [...] a flexible class for comparing pairs of sequences of any type, so long as the sequence elements are hashable."
     ]
    },
    {
     "cell_type": "markdown",
     "metadata": {},
     "source": [
      "It is also explicitely state that generated diff might not be minimal, but might looks more  \"human readable\" than classical diff (emphasis mine). \n",
      "\n",
      "> The basic algorithm [..] is a little fancier than,[...] \u201cgestalt pattern matching.\u201d The idea is to find the longest contiguous matching subsequence that contains no \u201cjunk\u201d elements [...]. The same idea is then applied recursively to the pieces of the sequences to the left and to the right of the matching subsequence. This **does not yield minimal edit sequences**, but does tend to yield matches that **\u201clook right\u201d** to people.\n"
     ]
    },
    {
     "cell_type": "markdown",
     "metadata": {},
     "source": [
      "To do that, we need to define \"junk\" which are things you don't want the algorithme to match on. \n",
      "Let see a common example in python where when you add a function with a derorator, the decorator is often added to the \"next\" function."
     ]
    },
    {
     "cell_type": "code",
     "collapsed": false,
     "input": [
      "s1 = \"\"\"\n",
      "@decorate\n",
      "def fun1():\n",
      "    return 1\n",
      "    \n",
      "@decorate\n",
      "def fun3():\n",
      "    return 3\n",
      "\"\"\"\n",
      "\n",
      "s2 = \"\"\"\n",
      "@decorate\n",
      "def fun1():\n",
      "    return 1\n",
      "    \n",
      "@decorate\n",
      "def fun2():\n",
      "    return 2\n",
      "    \n",
      "@decorate\n",
      "def fun3():\n",
      "    return 3\n",
      "\"\"\""
     ],
     "language": "python",
     "metadata": {},
     "outputs": [],
     "prompt_number": 1
    },
    {
     "cell_type": "markdown",
     "metadata": {},
     "source": [
      "Classical diff"
     ]
    },
    {
     "cell_type": "code",
     "collapsed": false,
     "input": [
      "import difflib\n",
      "print ''.join(difflib.ndiff(s1.splitlines(1), s2.splitlines(1)))"
     ],
     "language": "python",
     "metadata": {},
     "outputs": [
      {
       "output_type": "stream",
       "stream": "stdout",
       "text": [
        "  \n",
        "  @decorate\n",
        "  def fun1():\n",
        "      return 1\n",
        "      \n",
        "  @decorate\n",
        "+ def fun2():\n",
        "+     return 2\n",
        "+     \n",
        "+ @decorate\n",
        "  def fun3():\n",
        "      return 3\n",
        "\n"
       ]
      }
     ],
     "prompt_number": 2
    },
    {
     "cell_type": "markdown",
     "metadata": {},
     "source": [
      "Now we will tell that blank line are junk:"
     ]
    },
    {
     "cell_type": "code",
     "collapsed": false,
     "input": [
      "blankline = lambda x:x.strip() ==''\n",
      "print ''.join(difflib.ndiff(s1.splitlines(1), s2.splitlines(1), linejunk=blankline))"
     ],
     "language": "python",
     "metadata": {},
     "outputs": [
      {
       "output_type": "stream",
       "stream": "stdout",
       "text": [
        "  \n",
        "  @decorate\n",
        "  def fun1():\n",
        "      return 1\n",
        "      \n",
        "+ @decorate\n",
        "+ def fun2():\n",
        "+     return 2\n",
        "+     \n",
        "  @decorate\n",
        "  def fun3():\n",
        "      return 3\n",
        "\n"
       ]
      }
     ],
     "prompt_number": 3
    },
    {
     "cell_type": "markdown",
     "metadata": {},
     "source": [
      "This is clearly better, as hunk do not have blank lines in the midlle, but more on sides."
     ]
    },
    {
     "cell_type": "heading",
     "level": 2,
     "metadata": {},
     "source": [
      "Where it gets weird"
     ]
    },
    {
     "cell_type": "markdown",
     "metadata": {},
     "source": [
      "Things is, `SequenceMatcher` is also the method that help you get the proximity between two strings.\n",
      "If the sequence you pass to `SequenceMatcher` is a string, it will try to match each caracters."
     ]
    },
    {
     "cell_type": "code",
     "collapsed": false,
     "input": [
      "from difflib import SequenceMatcher"
     ],
     "language": "python",
     "metadata": {},
     "outputs": [],
     "prompt_number": 4
    },
    {
     "cell_type": "code",
     "collapsed": false,
     "input": [
      "print SequenceMatcher('hello world','hello world').ratio()\n",
      "print SequenceMatcher('xyz','abc').ratio()"
     ],
     "language": "python",
     "metadata": {},
     "outputs": [
      {
       "output_type": "stream",
       "stream": "stdout",
       "text": [
        "0.0\n",
        "0.0\n"
       ]
      }
     ],
     "prompt_number": 5
    },
    {
     "cell_type": "markdown",
     "metadata": {},
     "source": [
      "Oh, sorry, you need to explicitelty, pass the `isjunk` function. Hopefully, it accepts `None`."
     ]
    },
    {
     "cell_type": "code",
     "collapsed": false,
     "input": [
      "print SequenceMatcher(None, 'hello world','hello world').ratio()\n",
      "print SequenceMatcher(None, 'xyz','abc').ratio()"
     ],
     "language": "python",
     "metadata": {},
     "outputs": [
      {
       "output_type": "stream",
       "stream": "stdout",
       "text": [
        "1.0\n",
        "0.0\n"
       ]
      }
     ],
     "prompt_number": 6
    },
    {
     "cell_type": "markdown",
     "metadata": {},
     "source": [
      "Ok, that's better, it goes from 0.0 for completely different strings (nothing in common) to 1.0 for perfectly matching strings."
     ]
    },
    {
     "cell_type": "markdown",
     "metadata": {},
     "source": [
      "let's try longer..."
     ]
    },
    {
     "cell_type": "code",
     "collapsed": false,
     "input": [
      "print SequenceMatcher(None, 'y'+'abc'*150,'x'+'abc'*150).ratio()"
     ],
     "language": "python",
     "metadata": {},
     "outputs": [
      {
       "output_type": "stream",
       "stream": "stdout",
       "text": [
        "0.0\n"
       ]
      }
     ],
     "prompt_number": 7
    },
    {
     "cell_type": "markdown",
     "metadata": {},
     "source": [
      "Still don't pass it strings longer than 200 char, it automatically detect junk... Yes this is documented, but not obvisous (thanks to [@MinRK](http://github.com/minrk) for helping me finding this one and the rest)"
     ]
    },
    {
     "cell_type": "code",
     "collapsed": false,
     "input": [
      "SequenceMatcher??"
     ],
     "language": "python",
     "metadata": {},
     "outputs": [],
     "prompt_number": 8
    },
    {
     "cell_type": "code",
     "collapsed": false,
     "input": [
      "print SequenceMatcher(None, 'y'+'abc'*150,'x'+'abc'*150, autojunk=False).ratio()"
     ],
     "language": "python",
     "metadata": {},
     "outputs": [
      {
       "output_type": "stream",
       "stream": "stdout",
       "text": [
        "0.9977827051\n"
       ]
      }
     ],
     "prompt_number": 9
    },
    {
     "cell_type": "markdown",
     "metadata": {},
     "source": [
      "So let's define a custom SequenceMatcher that make sens for the rest of the post, so that `isjunk`is `None` by default, and no `autojunk` for `n > 200`, and a simple `ratio(a, b)` method as a shortcut."
     ]
    },
    {
     "cell_type": "code",
     "collapsed": false,
     "input": [
      "def MySequenceMatcher( seq1, seq2, isjunk=None, autojunk=False):\n",
      "    return SequenceMatcher(isjunk, seq1, seq2, autojunk=autojunk)\n",
      "\n",
      "def ratio(a,b):\n",
      "    return MySequenceMatcher(a,b).ratio()"
     ],
     "language": "python",
     "metadata": {},
     "outputs": [],
     "prompt_number": 10
    },
    {
     "cell_type": "code",
     "collapsed": false,
     "input": [
      "print ratio('abc','abc')\n",
      "print ratio('abcd','abcf')\n"
     ],
     "language": "python",
     "metadata": {},
     "outputs": [
      {
       "output_type": "stream",
       "stream": "stdout",
       "text": [
        "1.0\n",
        "0.75\n"
       ]
      }
     ],
     "prompt_number": 11
    },
    {
     "cell_type": "heading",
     "level": 2,
     "metadata": {},
     "source": [
      "Where it gets weirder"
     ]
    },
    {
     "cell_type": "markdown",
     "metadata": {},
     "source": [
      "I'll probably won't go into how we found out the following, but for some reason `ratio(a,b)` was different from `ratio(reversed(a),reversed(b))`, that is to say `ratio('ab...yz','ab...yz') != ratio('zy...ba','zy...ba')` in some case. "
     ]
    },
    {
     "cell_type": "markdown",
     "metadata": {},
     "source": [
      "So let's look at what happend if we compare a string against itself, with only one modification, as a function as the position of the modification, that is to say the ratio of `aaaa...` vs `baaa...` vs `abaa...` vs `aaba...`"
     ]
    },
    {
     "cell_type": "code",
     "collapsed": false,
     "input": [
      "%matplotlib inline\n",
      "import matplotlib\n",
      "import matplotlib.pyplot as plt"
     ],
     "language": "python",
     "metadata": {},
     "outputs": [],
     "prompt_number": 12
    },
    {
     "cell_type": "code",
     "collapsed": false,
     "input": [
      "n = 100\n",
      "step = 1\n",
      "s1 = u'a'*n\n",
      "r = lambda x : ratio(x, s1)\n",
      "\n",
      "def modified(i):\n",
      "    \"\"\" return the string s1, where the i-th is replaced by -\"\"\"\n",
      "    return s1[:i-1]+u'-'+s1[i+1:]\n",
      "\n",
      "xx = range(1, n, step)\n",
      "\n",
      "\n",
      "print(s1[:10]),'...'\n",
      "for i in range(10):\n",
      "    print(modified(i)[:10]),'...'\n",
      "print('..............')\n",
      "distance = map( r, [modified(i) for i in xx])\n",
      "\n",
      "plt.plot(xx, distance)\n",
      "plt.ylabel('similarity')\n",
      "plt.xlabel('position of modified caracter')"
     ],
     "language": "python",
     "metadata": {},
     "outputs": [
      {
       "output_type": "stream",
       "stream": "stdout",
       "text": [
        "aaaaaaaaaa ...\n",
        "aaaaaaaaaa ...\n",
        "-aaaaaaaaa ...\n",
        "a-aaaaaaaa ...\n",
        "aa-aaaaaaa ...\n",
        "aaa-aaaaaa ...\n",
        "aaaa-aaaaa ...\n",
        "aaaaa-aaaa ...\n",
        "aaaaaa-aaa ...\n",
        "aaaaaaa-aa ...\n",
        "aaaaaaaa-a ...\n",
        "..............\n"
       ]
      },
      {
       "metadata": {},
       "output_type": "pyout",
       "prompt_number": 13,
       "text": [
        "<matplotlib.text.Text at 0x110ffb690>"
       ]
      },
      {
       "metadata": {},
       "output_type": "display_data",
       "png": "[encoded data removed]",
       "text": [
        "<matplotlib.figure.Figure at 0x110ff52d0>"
       ]
      }
     ],
     "prompt_number": 13
    },
    {
     "cell_type": "markdown",
     "metadata": {},
     "source": [
      "WWWHHHHAAAAAT ???"
     ]
    },
    {
     "cell_type": "markdown",
     "metadata": {},
     "source": [
      "Hum..let's look with some other string, basically same as before, but with repeating sequence `ababab..`, `abcabcabcabc...`"
     ]
    },
    {
     "cell_type": "code",
     "collapsed": false,
     "input": [
      "import string"
     ],
     "language": "python",
     "metadata": {},
     "outputs": [],
     "prompt_number": 14
    },
    {
     "cell_type": "code",
     "collapsed": false,
     "input": [
      "def test_rep(k=1, n=128):\n",
      "    s1 = string.letters[:k]*int(n/k*2)\n",
      "    s1 = s1[:n]\n",
      "    r = lambda x : ratio(x, s1)\n",
      "    \n",
      "    def modified(i):\n",
      "        \"\"\" return the string s1, where the i-th is replaced by -\"\"\"\n",
      "        return s1[:i-1]+u'-'+s1[i+1:]\n",
      "    \n",
      "    xx = range(1, n, step)\n",
      "    distance = map( r, [modified(i) for i in xx])\n",
      "    return xx,distance\n",
      "\n",
      "fig,ax = plt.subplots(1,1)\n",
      "fig.set_figwidth(16)\n",
      "fig.set_figheight(8)\n",
      "\n",
      "for k in [1,2,4,8,16,32]:\n",
      "    xx, distance = test_rep(k, n=64)\n",
      "    plt.step(xx, distance, where='post', label='k={k}'.format(k=k))\n",
      "    \n",
      "\n",
      "plt.ylabel('similarity')\n",
      "plt.xlabel('position of modified caracter')\n",
      "plt.legend(loc=4)"
     ],
     "language": "python",
     "metadata": {},
     "outputs": [
      {
       "metadata": {},
       "output_type": "pyout",
       "prompt_number": 15,
       "text": [
        "<matplotlib.legend.Legend at 0x1110ca090>"
       ]
      },
      {
       "metadata": {},
       "output_type": "display_data",
       "png": "[encoded data removed]",
       "text": [
        "<matplotlib.figure.Figure at 0x11102ef10>"
       ]
      }
     ],
     "prompt_number": 15
    },
    {
     "cell_type": "markdown",
     "metadata": {},
     "source": [
      "Huummm... this definitively does not look at what I was expecting (mainly something constant), but looks more like a [Sierpinski triangle](http://en.wikipedia.org/wiki/Sierpinski_triangle) to me. Anyway, I knew what [levenstein distance](http://en.wikipedia.org/wiki/Levenshtein_distance) was, but not really what the efficient algorython where. and now I'm starting [libdiff2]. Not that I don't like current python libdiff, but I hope to be able to build a lower lever library (pure python of course) without any surprise behavior, on which maby one can rebuild the current libdiff and avoid to rely on [regular expression](http://hg.python.org/cpython/file/0872257752c2/Lib/difflib.py#l1371) to parse the output of another function."
     ]
    }
   ],
   "metadata": {}
  }
 ]
}