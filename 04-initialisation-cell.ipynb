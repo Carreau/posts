{
 "metadata": {
  "name": "04-initialisation-cell"
 },
 "nbformat": 3,
 "nbformat_minor": 0,
 "worksheets": [
  {
   "cells": [
    {
     "cell_type": "heading",
     "level": 1,
     "metadata": {},
     "source": [
      "<center>IPython Notebook Duck-Punching</center>"
     ]
    },
    {
     "cell_type": "markdown",
     "metadata": {},
     "source": [
      "> If it walks like a duck and talks like a duck, it\u2019s a duck. So if this duck is not giving you the noise that you want, you\u2019ve got to just punch that duck until it returns what you expect.\n",
      "\n",
      "\n",
      "    \n",
      "<style>\n",
      "    div.cell, .text_cell_render{\n",
      "        max-width:750px;\n",
      "        margin-left:auto;\n",
      "        margin-right:auto;\n",
      "\n",
      "    }\n",
      "    \n",
      "    \n",
      "    h1 {\n",
      "        text-align:center;\n",
      "        font-familly:\"Charis SIL\", serif;\n",
      "    }\n",
      "    \n",
      "</style>"
     ]
    },
    {
     "cell_type": "markdown",
     "metadata": {},
     "source": [
      "Small blogpost to answer to one question that has been asked on [stackoverflow](http://stackoverflow.com/questions/14934084/does-the-ipython-notebook-have-initialization-cells) and on the [Issue tracker](https://github.com/ipython/ipython/issues/2950) :\n",
      "\n",
      "> When I open a saved IPython Notebook, I need to evaluate all the cells with imports, function definitions etc. to continue working on the session. It is convenient to click Cell > Run All to do this. But what If I do not want to re-evaluate all calculations? Do I need to pick the cells to evaluate by hand each time?\n",
      "\n",
      "> \\[There is\\]  the concept of \"initialization cells\". You can mark some cells in the notebook as initialization cell, and then perform \"evaluate initialization cells\" after opening the notebook.\n",
      "\n",
      "> This feature should allow certain cells to be marked as Initialization Cells and be evaluated together with the appropriate command.\n",
      "\n",
      "I'll let you get there to read the official answer, but in short : Not in core IPython, this can be done as an extension.\n",
      "\n",
      "Some warning before we start. \n",
      "As long as you don't shut down the IPython webserver, or don't ask for explicit shutdown, a notebook kernel stay alive, meaning that you can leave the page and come back, you wil still have the same active namespace. So you might not want to run those init cell again. \n",
      "\n",
      "Second do not **ever**, in **any case**, whatever reason you have, **automatically** run initialisation cell on notebook load. It is a **security risk** :\n",
      "If you have such an extension and I send you a notebook with a Initialisation Cell that have `rm -rf ~/` in it. You just lost your home folder when  openning this notebook. \n",
      "\n",
      "So this will show you haow to to that in less than 60 lines of javascript.\n"
     ]
    },
    {
     "cell_type": "markdown",
     "metadata": {},
     "source": [
      "You know [where to find the finished code][1], as usual it is not perfect, and I wait for PR to fix the edge cases. Let's start.\n",
      "\n",
      "[1]: https://github.com/Carreau/ipython-static-profiles"
     ]
    },
    {
     "cell_type": "heading",
     "level": 3,
     "metadata": {},
     "source": [
      "Overview"
     ]
    },
    {
     "cell_type": "markdown",
     "metadata": {},
     "source": [
      "This extension will be in two part even the all thing will fit in one file. So let's decompose what we need. \n",
      "\n",
      "  - The ability to mark a cell with a certain flag (Initialisation Cell)\n",
      "  - The ability run all those initialisation cell when needed\n"
     ]
    },
    {
     "cell_type": "markdown",
     "metadata": {},
     "source": [
      "For me this sound like the need for a custom CellToolbar checkbox, and a Toolbar button 'Run init Cell'. A checkbox because this is typically a Boolean statement, the cell is a Initialisation cell, or not. And the toolbar button is the easiest to reach, and not too complicated to add."
     ]
    },
    {
     "cell_type": "heading",
     "level": 3,
     "metadata": {},
     "source": [
      "The CellToolbar checkbox"
     ]
    },
    {
     "cell_type": "markdown",
     "metadata": {},
     "source": [
      "We will store the boolean of wether of not the cell is an Initialisation Cell in the cell Metadata. To stay clean, we will use a prefixed key to avoid future collision. As this is a draft, I will prefix the name of the key with an underscore to warn future user that directly accessing this key is not supported and that I reserved myself the right to change anything without warning. "
     ]
    },
    {
     "cell_type": "markdown",
     "metadata": {},
     "source": [
      "I will store `[true|false|undefined]` in `cell.metadata._draft.init_cell`. I will not forget to check that `cell.metadata._draft` exist before playing with it."
     ]
    },
    {
     "cell_type": "markdown",
     "metadata": {},
     "source": [
      "The IPython notebook provide a convenient API to generate checkbox in Cell Toolbar. to use this we need to define a getter and a setter for our metadata. \n",
      "\n",
      "The setter take the cell we act on, and the new value:\n",
      "\n",
      "    function(cell, value){\n",
      "         // we check that the _draft namespace exist and create it if needed\n",
      "         if (cell.metadata._draft == undefined){cell.metadata._draft = {}}\n",
      "            // set the value\n",
      "            cell.metadata._draft.init_cell = value\n",
      "         }\n",
      "         \n",
      "The getter is not much more complicated :\n",
      "\n",
      "     function(cell){\n",
      "         var ns = cell.metadata._draft;\n",
      "         // if the _draft namespace does not exist return undefined\n",
      "         // (will be interpreted as false by checkbox) otherwise\n",
      "         // return the value\n",
      "         return (ns == undefined)? undefined: ns.init_cell\n",
      "         }\n"
     ]
    },
    {
     "cell_type": "markdown",
     "metadata": {},
     "source": [
      "The api to generate the checkbox has the following signature : `CellToolbar.utils.checkbox_ui_generator(label, setter, getter)`\n",
      "I can then create my function easily:\n",
      "\n",
      "    var CellToolbar= IPython.CellToolbar;\n",
      "\n",
      "\n",
      "    var init_cell = CellToolbar.utils.checkbox_ui_generator('Initialisation Cell',\n",
      "     // setter\n",
      "     function(cell, value){\n",
      "         // we check that the _draft namespace exist and create it if needed\n",
      "         if (cell.metadata._draft == undefined){cell.metadata._draft = {}}\n",
      "            // set the value\n",
      "            cell.metadata._draft.init_cell = value\n",
      "         },\n",
      "     //getter\n",
      "     function(cell){ var ns = cell.metadata._draft;\n",
      "         // if the _draft namespace does not exist return undefined\n",
      "         // (will be interpreted as false by checkbox) otherwise\n",
      "         // return the value\n",
      "         return (ns == undefined)? undefined: ns.init_cell\n",
      "         }\n",
      "     );\n"
     ]
    },
    {
     "cell_type": "markdown",
     "metadata": {},
     "source": [
      "The `label` will be use in the UI to put a name in front of the checkbox to know its use. So I used a descriptive name."
     ]
    },
    {
     "cell_type": "markdown",
     "metadata": {},
     "source": [
      "Now we need to register our function, for that we will use  `CellToolbar.register_callback(name, function);`. `name` should be a string we will use to refer to the function later, in order to use it in multiple place if we wish. Here simply \n",
      "\n",
      "    CellToolbar.register_callback('init_cell.chkb', init_cell);"
     ]
    },
    {
     "cell_type": "markdown",
     "metadata": {},
     "source": [
      "And finaly, we use a private method (for now) to generate a `CellToolbar` *preset* that can be chosen by the User in the CellToolbar dropdown with :\n",
      "`CellToolbar.register_preset(label, ['callback_name','callback_name',....])`. This allow to simply mix and match ui elements from different preset for customisation. Here we only have one checkbox so we do:\n",
      "\n",
      "    CellToolbar.register_preset('Initialisation Cell', ['init_cell.chkb']);\n",
      "    \n",
      "With all the extension I have, I could create a custom CellToolbar simply by adding:\n",
      "    \n",
      "    CellToolbar.register_preset('My toolbar', ['init_cell.chkb','default.rawedit','slideshow.select']);\n",
      "    \n",
      "And you can see below how it looks like "
     ]
    },
    {
     "cell_type": "code",
     "collapsed": false,
     "input": [
      "from IPython.display import Image\n",
      "Image(filename='/Users/bussonniermatthias/Desktop/Ctoolbar.png')"
     ],
     "language": "python",
     "metadata": {},
     "outputs": [
      {
       "output_type": "pyout",
       "png": "[encoded data removed]",
       "prompt_number": 19,
       "text": [
        "<IPython.core.display.Image at 0x110082d50>"
       ]
      }
     ],
     "prompt_number": 19
    },
    {
     "cell_type": "markdown",
     "metadata": {},
     "source": [
      "Now you just need to select the `Initiallisation Cell` CellToolbar and  check the checkbox you wish."
     ]
    },
    {
     "cell_type": "heading",
     "level": 3,
     "metadata": {},
     "source": [
      "The Toolbar button"
     ]
    },
    {
     "cell_type": "markdown",
     "metadata": {},
     "source": [
      "Now we need a way to run all cells marked as `Initialisation Cell`s. Let's first make a function that loop on all cell and run is they are marked:"
     ]
    },
    {
     "cell_type": "markdown",
     "metadata": {},
     "source": [
      "    var run_init = function(){\n",
      "\n",
      "        var cells = IPython.notebook.get_cells();\n",
      "\n",
      "        for(var i in cells){\n",
      "            var cell = cells[i];\n",
      "            var namespace =  cell.metadata._draft|| {};\n",
      "            var isInit = namespace.init_cell;\n",
      "            // you also need to check that cell is instance of code cell,\n",
      "            // but lets keep it short\n",
      "            if( isInit === true){\n",
      "                cell.execute();\n",
      "            }\n",
      "        }\n",
      "    };\n",
      "    \n",
      " Now we use the API to create a function that register a callback on a button click on the main toolbar, we use a descriptive `label` that shows on hower, on Icon from [jQuery UI themeroller](http://jqueryui.com/themeroller/), and assign the callback to previous defined function:\n",
      " \n",
      "     var add_run_init_button = function(){\n",
      "        IPython.toolbar.add_buttons_group([\n",
      "             {\n",
      "              'label'   : 'run init_cell',\n",
      "              'icon'    : 'ui-icon-calculator', \n",
      "              'callback': run_init\n",
      "             }\n",
      "         ]);\n",
      "        };\n",
      "    "
     ]
    },
    {
     "cell_type": "markdown",
     "metadata": {},
     "source": [
      "Now we just need to run this function late enough to have effect. We will just listen for the `loaded` even to trigger this :\n",
      "\n",
      "    $([IPython.events]).on('notebook_loaded.Notebook',add_run_init_button);\n",
      "\n",
      "That's it.\n",
      "\n",
      "You just have to put all this stuff in one big file, name it correctly and add the $.getScript in your `custom.js`. Reload your page/Restart your server (depending on the config you choose). And you should have a new toolbar preset and a button to run your initialisation cell.  I've got less than 60 lines of javascript comment and blank lines counted. \n",
      "\n",
      "As this is a separated file, you can easily [fork it][1] and add modifications/options. I'm waiting for PRs.  \n",
      "\n",
      "[1]: https://github.com/Carreau/ipython-static-profiles"
     ]
    },
    {
     "cell_type": "markdown",
     "metadata": {},
     "source": [
      "I hope this show you that writing extension for the IPython notebook is not that hard, and are easy to share."
     ]
    },
    {
     "cell_type": "code",
     "collapsed": false,
     "input": [],
     "language": "python",
     "metadata": {},
     "outputs": []
    }
   ],
   "metadata": {}
  }
 ]
}