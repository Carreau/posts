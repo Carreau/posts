{
 "cells": [
  {
   "cell_type": "markdown",
   "metadata": {},
   "source": [
    "# IPython Notebook Duck-Punching (II)"
   ]
  },
  {
   "cell_type": "markdown",
   "metadata": {},
   "source": [
    "> If it walks like a duck and talks like a duck, it\u2019s a duck. So if this duck is not giving you the noise that you want, you\u2019ve got to just punch that duck until it returns what you expect."
   ]
  },
  {
   "cell_type": "markdown",
   "metadata": {},
   "source": [
    "Some thoughts on the IPython notebook."
   ]
  },
  {
   "cell_type": "markdown",
   "metadata": {},
   "source": [
    "For once, this will discuss more what are the possible things than can be done with IPython, with only few really usable code.\n",
    "\n",
    "I hope it will help the reader to better understand in what direction the Core Team whant to drive IPython. This is of course my personnal interpretation of the different points. We discussed since I came on board. But I hope it will help the comunity to feel.concern and participate."
   ]
  },
  {
   "cell_type": "markdown",
   "metadata": {},
   "source": [
    "## Terminology"
   ]
  },
  {
   "cell_type": "markdown",
   "metadata": {},
   "source": [
    "I think one of the first things that should be adressed is the terminology of things. As a non native english speaker I am pretty bad at choosing names for things. And I probably have an horible.english. And I think there is a big problem the Naming in the IPython notebook.\n",
    "\n",
    "The problem is the same as what happend with the terme \"gene\", at some point in history it was used to explain a specific effect that some phenotype where expressed depending on the genes you had, the problem is that with our current technologie an knowledge on genetics, the boundaries of what a gene is becommes fuzzy."
   ]
  },
  {
   "cell_type": "markdown",
   "metadata": {},
   "source": [
    "Same apply to the IPython notebook. Let's see.\n",
    "\n",
    "You probably can start the IPyrhon notebook from your command line. \n",
    "You can also ask a friend to send his or her IPython notebook by email. \n",
    "You probably know that shift enter execute a cell in an IPython notebook.\n",
    "\n",
    "But you probably don't send a webserver by email.\n",
    "\n",
    "I haven't seen anyone converting GMail to a power point.\n",
    "\n",
    "I think you see the point. \"IPython notebook\" represent at the same time: The webserver application that yoi start from the command line, the web frontend that you are used to use, the file format that defines the structures of ipynb files, the actual files you exchanges, and the representations of thoses files into the web applocation. \n",
    "Add on top the fact that kernel can speek to multiple frontend and can talk to non-python kernel, and people get lost."
   ]
  },
  {
   "cell_type": "markdown",
   "metadata": {},
   "source": [
    "Now you wonder why you should care as you are only using the all bundle? Because you will probably what to share and or reuse what you write, and once you understand the differents things.you will be able to do even more amazing things.\n",
    "\n",
    "The part you don't (really) care about.\n",
    "\n",
    "The webserver. \n",
    "It can mostly be seen as a middleware. The configuration options should be left to the sysadmin. It mostly make the ZMQ/websocket bridge, and is also an endpoint for the web application to access remote filesystem (yes remote, even if localhost).\n",
    "\n",
    "The part you can do without.\n",
    "\n",
    "The kernel. You probably had one or twice a kernel that died"
   ]
  },
  {
   "cell_type": "code",
   "execution_count": null,
   "metadata": {
    "collapsed": false
   },
   "outputs": [],
   "source": []
  }
 ],
 "metadata": {
  "kernelspec": {
   "display_name": "IPython (Python 3)",
   "name": "python3"
  },
  "language_info": {
   "codemirror_mode": {
    "name": "ipython",
    "version": 3
   },
   "file_extension": ".py",
   "mimetype": "text/x-python",
   "name": "python",
   "nbconvert_exporter": "python",
   "pygments_lexer": "ipython3"
  },
  "signature": "sha256:4fe1c7a85417b4f59e93048d7e686dfe53f1f7781c503338fa92a18318747e9c"
 },
 "nbformat": 4,
 "nbformat_minor": 0
}