{
 "metadata": {
  "name": "06-NBconvert-Doc-Draft"
 },
 "nbformat": 3,
 "nbformat_minor": 0,
 "worksheets": [
  {
   "cells": [
    {
     "cell_type": "heading",
     "level": 1,
     "metadata": {},
     "source": [
      "How to Use NBConvert"
     ]
    },
    {
     "cell_type": "heading",
     "level": 2,
     "metadata": {},
     "source": [
      "Warning"
     ]
    },
    {
     "cell_type": "markdown",
     "metadata": {},
     "source": [
      "This might have been redacted with a slighly modified version of nbconvert to fix a few bug and reflect more what shoudl happend than what is happening with current nbconvert."
     ]
    },
    {
     "cell_type": "heading",
     "level": 4,
     "metadata": {},
     "source": [
      "Intro"
     ]
    },
    {
     "cell_type": "markdown",
     "metadata": {},
     "source": [
      "In this post I will introduce you to the programatic API of nbconvert to show you how to use it in various context. \n",
      "\n",
      "For this I will use one of [@jakevdp](https://github.com/jakevdp) great [blog post](http://jakevdp.github.io/blog/2013/04/15/code-golf-in-python-sudoku/).\n",
      "I've explicitely chosen a post with no javascript tricks as Jake seem to be found of right now, for the reason that the becommings of embeding javascript in nbviewer, which is based on nbconvert is not fully decided yet. \n",
      "\n",
      "\n",
      "This will not focus on using the command line tool to convert file. The attentive reader will point-out that no data are read from, or written to disk during the conversion process. Indeed, nbconvert as been though as much as\n",
      "possible to avoid IO operation and work as well in a database, or web-based environement."
     ]
    },
    {
     "cell_type": "heading",
     "level": 4,
     "metadata": {},
     "source": [
      "Quick overview"
     ]
    },
    {
     "cell_type": "markdown",
     "metadata": {},
     "source": [
      "The main principle of nbconvert is to instanciate a `Exporter` that controle\n",
      "a pipeline through which each notebook you want to export with go through.\n",
      "\n",
      "Let's start by importing what we need from the API, and download @jakevdp's notebook."
     ]
    },
    {
     "cell_type": "code",
     "collapsed": false,
     "input": [
      "import requests\n",
      "response = requests.get('http://jakevdp.github.com/downloads/notebooks/XKCD_plots.ipynb')\n",
      "response.content[0:60]+'...'"
     ],
     "language": "python",
     "metadata": {},
     "outputs": [
      {
       "metadata": {},
       "output_type": "pyout",
       "prompt_number": 1,
       "text": [
        "'{\\n \"metadata\": {\\n  \"name\": \"XKCD_plots\"\\n },\\n \"nbformat\": 3,\\n...'"
       ]
      }
     ],
     "prompt_number": 1
    },
    {
     "cell_type": "markdown",
     "metadata": {},
     "source": [
      "We read the response into a slightly more convenient format which represent IPython notebook. \n",
      "There are not real advantages for now, except some convenient methods, but with time this structure should be able to\n",
      "guarantee that the notebook structure is valid."
     ]
    },
    {
     "cell_type": "code",
     "collapsed": false,
     "input": [
      "from IPython.nbformat import current as nbformat\n",
      "jake_notebook = nbformat.reads_json(response.content)\n",
      "jake_notebook.worksheets[0].cells[0]"
     ],
     "language": "python",
     "metadata": {},
     "outputs": [
      {
       "metadata": {},
       "output_type": "pyout",
       "prompt_number": 2,
       "text": [
        "{u'cell_type': u'heading',\n",
        " u'level': 1,\n",
        " u'metadata': {},\n",
        " u'source': u'XKCD plots in Matplotlib'}"
       ]
      }
     ],
     "prompt_number": 2
    },
    {
     "cell_type": "markdown",
     "metadata": {},
     "source": [
      "So we have here Jake's notebook in a convenient for, which is mainly a Super-Powered dict and list nested.\n",
      "You don't need to worry about the exact structure."
     ]
    },
    {
     "cell_type": "code",
     "collapsed": false,
     "input": [
      "cd ~/nbconvert/"
     ],
     "language": "python",
     "metadata": {},
     "outputs": [
      {
       "output_type": "stream",
       "stream": "stdout",
       "text": [
        "/Users/matthiasbussonnier/nbconvert\n"
       ]
      }
     ],
     "prompt_number": 3
    },
    {
     "cell_type": "markdown",
     "metadata": {},
     "source": [
      "The nbconvert API exposes some basic exporter for common format and default options. We will start\n",
      "by using one of them. First we import it, instanciate an instance with all the defautl parameters and fed it\n",
      "the downloaded notebook. "
     ]
    },
    {
     "cell_type": "code",
     "collapsed": false,
     "input": [
      "import nbconvert\n",
      "from nbconvert import BasicHtmlExporter\n",
      "\n",
      "exportHtml = BasicHtmlExporter()"
     ],
     "language": "python",
     "metadata": {},
     "outputs": [],
     "prompt_number": 4
    },
    {
     "cell_type": "code",
     "collapsed": false,
     "input": [
      "(body,resources) = exportHtml.from_notebook_node(jake_notebook)"
     ],
     "language": "python",
     "metadata": {},
     "outputs": [],
     "prompt_number": 5
    },
    {
     "cell_type": "markdown",
     "metadata": {},
     "source": [
      "The exporter returns a tuple containing the body of the converted notebook, here raw HTML, as well as a resources dict.\n",
      "The resource dict contains (among many things) the extracted PNG, JPG [...etc] from the notebook when applicable.\n",
      "The basic HTML exporter does keep them as embeded base64 into the notebook, but one can do ask the figures to be extracted. Cf advance use. So for now the resource dict **should** be mostly empty, except for 1 key containing some css.\n",
      "\n",
      "Exporter are stateless, you won't be able to extract any usefull information (except their configuration) from them.\n",
      "You can directly re-use the instance to convert another notebook. Each exporter expose for convenience a `from_file` and `from_filename` methods if you need."
     ]
    },
    {
     "cell_type": "code",
     "collapsed": false,
     "input": [
      "resources.keys()"
     ],
     "language": "python",
     "metadata": {},
     "outputs": [
      {
       "metadata": {},
       "output_type": "pyout",
       "prompt_number": 6,
       "text": [
        "['inlining']"
       ]
      }
     ],
     "prompt_number": 6
    },
    {
     "cell_type": "code",
     "collapsed": false,
     "input": [
      "# Part of the body, here the first Heading\n",
      "print body[:200]+'...'"
     ],
     "language": "python",
     "metadata": {},
     "outputs": [
      {
       "output_type": "stream",
       "stream": "stdout",
       "text": [
        "\n",
        "<div class=\"text_cell_render border-box-sizing rendered_html\">\n",
        "<h1>\n",
        "\n",
        "<a class=\"heading-anchor\" id=\"XKCD_plots_in_Matplotlib\" href=\"#XKCD_plots_in_Matplotlib\">\n",
        "  XKCD plots in Matplotlib\n",
        "</a>\n",
        "</h1>\n",
        "</...\n"
       ]
      }
     ],
     "prompt_number": 7
    },
    {
     "cell_type": "markdown",
     "metadata": {},
     "source": [
      "You can directly write the body into an HTML file if you wish, as you see it does not contains any body tag, or style declaration, but thoses are included in the FullHtmlExporter.\n",
      "In advance use you will see how to customise each of the exporters."
     ]
    },
    {
     "cell_type": "heading",
     "level": 4,
     "metadata": {},
     "source": [
      "Extracting Figures"
     ]
    },
    {
     "cell_type": "markdown",
     "metadata": {},
     "source": [
      "When exporting one might want to extract the base64 encoded figures to separate files, this is by default what does the RstExporter does, let see how to use it. "
     ]
    },
    {
     "cell_type": "code",
     "collapsed": false,
     "input": [
      "from nbconvert import RstExporter\n",
      "\n",
      "\n",
      "rst_export = RstExporter()\n",
      "\n",
      "(body,resources) = rst_export.from_notebook_node(jake_notebook)"
     ],
     "language": "python",
     "metadata": {},
     "outputs": [],
     "prompt_number": 8
    },
    {
     "cell_type": "code",
     "collapsed": false,
     "input": [
      "print body[:570]+'...'\n",
      "print '[.....]'\n",
      "print body[900:1100]+'...'"
     ],
     "language": "python",
     "metadata": {},
     "outputs": [
      {
       "output_type": "stream",
       "stream": "stdout",
       "text": [
        "XKCD plots in Matplotlib\n",
        "========================\n",
        "\n",
        "This notebook originally appeared as a blog post at `Pythonic\n",
        "Perambulations <http://jakevdp.github.com/blog/2012/10/07/xkcd-style-plots-in-matplotlib/>`_\n",
        "by Jake Vanderplas.\n",
        "\n",
        " One of the problems I've had with typical matplotlib figures is that\n",
        "everything in them is so precise, so perfect. For an example of what I\n",
        "mean, take a look at this figure:\n",
        "\n",
        "In[1]:\n",
        "\n",
        ".. code:: python\n",
        "\n",
        "    from IPython.display import Image\n",
        "    Image('http://jakevdp.github.com/figures/xkcd_version.png')\n",
        "\n",
        "\n",
        ".. image:: _fig_01.png\n",
        "\n",
        "\n",
        "Sometimes wh...\n",
        "[.....]\n",
        "om/figures/mpl_version.png')\n",
        "\n",
        "\n",
        ".. image:: _fig_03.png\n",
        "\n",
        "\n",
        "It just doesn't have the same effect. Matplotlib is great for scientific\n",
        "plots, but sometimes you don't want to be so precise.\n",
        "\n",
        "This subject has...\n"
       ]
      }
     ],
     "prompt_number": 9
    },
    {
     "cell_type": "markdown",
     "metadata": {},
     "source": [
      "Here we see that base64 images are not embeded, but we get what look like file name. Actually those are (Configurable) keys to get back the binary data from the resources dict we havent inspected earlier.\n"
     ]
    },
    {
     "cell_type": "markdown",
     "metadata": {},
     "source": [
      "So when writing a Rst Plugin for any blogengine, Sphinx or anything else, you will be responsible for writing all those data to disk, in the right place. \n",
      "Of course to help you in this task all those naming are configurable in the right place."
     ]
    },
    {
     "cell_type": "markdown",
     "metadata": {},
     "source": [
      "let's try to see how to get one of these images"
     ]
    },
    {
     "cell_type": "code",
     "collapsed": false,
     "input": [
      "resources['figures']['binary'].keys()"
     ],
     "language": "python",
     "metadata": {},
     "outputs": [
      {
       "metadata": {},
       "output_type": "pyout",
       "prompt_number": 10,
       "text": [
        "[u'_fig_07.png',\n",
        " u'_fig_09.png',\n",
        " u'_fig_03.png',\n",
        " u'_fig_12.png',\n",
        " u'_fig_01.png']"
       ]
      }
     ],
     "prompt_number": 10
    },
    {
     "cell_type": "markdown",
     "metadata": {},
     "source": [
      "We have extracted 5 binary figures, here `png`s, but they could have been svg, and then wouldn't appear in the binary sub dict.\n",
      "keep in mind that a object having multiple _repr_ will store all it's repr in the notebook. \n",
      "\n",
      "Hence if you provide `_repr_javascript_`,`_repr_latex_` and `_repr_png_`to an object, you will be able to determine at conversion time which representaition is the more appropriate. You could even decide to show all the representaition of an object, it's up to you. But this will require beeing a little more involve and write a few line of Jinja template. This will probably be the subject of another tutorial.\n",
      "\n",
      "Back to our images,\n",
      "\n"
     ]
    },
    {
     "cell_type": "code",
     "collapsed": false,
     "input": [
      "from IPython.display import Image\n",
      "Image(data=resources['figures']['binary']['_fig_07.png'],format='png')"
     ],
     "language": "python",
     "metadata": {},
     "outputs": [
      {
       "metadata": {},
       "output_type": "pyout",
       "png": "[encoded data removed]",
       "prompt_number": 11,
       "text": [
        "<IPython.core.display.Image at 0x105138210>"
       ]
      }
     ],
     "prompt_number": 11
    },
    {
     "cell_type": "markdown",
     "metadata": {},
     "source": [
      "Yep, this is indeed the image we were expecting, and I was able to see it without ever writing or reading it from disk. I don't think I'll have to show to you what to do with those data, as if you are here you are most probably familiar with IO."
     ]
    },
    {
     "cell_type": "heading",
     "level": 2,
     "metadata": {},
     "source": [
      "Extracting figures with HTML Exporter ?"
     ]
    },
    {
     "cell_type": "markdown",
     "metadata": {},
     "source": [
      "Use case:\n",
      "\n",
      "> I write an [awesome blog](http://jakevdp.github.io/) in HTML, and I want all but having base64 embeded images. \n",
      "Having one html file with all inside is nice to send to coworker, but I definitively want resources to be cached !\n",
      "So I need an HTML exporter, and I want it to extract the figures !"
     ]
    },
    {
     "cell_type": "heading",
     "level": 3,
     "metadata": {},
     "source": [
      "Some theory"
     ]
    },
    {
     "cell_type": "markdown",
     "metadata": {},
     "source": [
      "The process of converting a notebook to a another format with the nbconvert Exporters happend in a few steps:\n",
      "\n",
      "  - Get the notebook data and other required files. (you are responsible for that)\n",
      "  - Feed them to the exporter that will\n",
      "      - sequentially feed the data to a number of `Transformers`. Transformer only act on the **structure**\n",
      "      of the notebook, and have access to it all. \n",
      "      - feed the notebook through the jinja templating engine\n",
      "          - the use templates are configurable.\n",
      "          - templates make use of configurable macros called filters.\n",
      "  - The exporter return the converted notebook as well as other relevant resources as a tuple.\n",
      "  - Write what you need to disk, or elsewhere. (You are responsible for it)"
     ]
    },
    {
     "cell_type": "markdown",
     "metadata": {},
     "source": [
      "Here we'll be interested in the `Transformers`. Each `Transformer` is applied successively and in order on the notebook before going through the conversion process.\n",
      "\n",
      "We provide some transformer that do some modification on the notebook structure by default.\n",
      "One of them, the `ExtractFigureTransformer` is responsible for crawling notebook,\n",
      "finding all the figures, and put them into the resources directory, as well as choosing the key\n",
      "(`_fig_xx.png`) that can replace the figure in the template.\n",
      "\n",
      "\n",
      "Thes `ExtractFigureTransformer` is special in the fact that it **should** be availlable on all `Exporter`s, but is just inactive."
     ]
    },
    {
     "cell_type": "code",
     "collapsed": false,
     "input": [
      "# second transformer shoudl be Instance of ExtractFigureTransformer\n",
      "print exportHtml.transformers"
     ],
     "language": "python",
     "metadata": {},
     "outputs": [
      {
       "output_type": "stream",
       "stream": "stdout",
       "text": [
        "[<function wrappedfunc at 0x104e82668>, <nbconvert.transformers.extractfigure.ExtractFigureTransformer object at 0x1050e3ed0>, <nbconvert.transformers.csshtmlheader.CSSHtmlHeaderTransformer object at 0x1050e3f90>]\n"
       ]
      }
     ],
     "prompt_number": 12
    },
    {
     "cell_type": "code",
     "collapsed": false,
     "input": [
      "print rst_export.transformers"
     ],
     "language": "python",
     "metadata": {},
     "outputs": [
      {
       "output_type": "stream",
       "stream": "stdout",
       "text": [
        "[<function wrappedfunc at 0x104e82668>, <nbconvert.transformers.extractfigure.ExtractFigureTransformer object at 0x105125550>]\n"
       ]
      }
     ],
     "prompt_number": 13
    },
    {
     "cell_type": "markdown",
     "metadata": {},
     "source": [
      "To enable it we will use IPython configuration/Traitlets system. If you are familiar with it, \n",
      "this will look pretty familiar to you. Configuration option are always of the form:\n",
      "\n",
      "   ClassName.attribute_name = value\n",
      "   \n",
      "A few ways exist to create such config, like reading a config file in your profile, but you can also do it programatically usign a dictionary. Let's create such a config object, and see the difference if we pass it to our `HtmlExporter`"
     ]
    },
    {
     "cell_type": "code",
     "collapsed": false,
     "input": [
      "from IPython.config import Config\n",
      "\n",
      "c =  Config({\n",
      "            'ExtractFigureTransformer':{'enabled':True}\n",
      "            })\n",
      "\n",
      "exportHtml = BasicHtmlExporter()\n",
      "exportHtml_and_figs = BasicHtmlExporter(config=c)\n",
      "\n",
      "(_, resources)          = exportHtml.from_notebook_node(jake_notebook)\n",
      "(_, resources_with_fig) = exportHtml_and_figs.from_notebook_node(jake_notebook)\n",
      "\n",
      "print 'resources without the \"figures\" key :'\n",
      "print resources.keys()\n",
      "\n",
      "print ''\n",
      "print 'resources with the \"figures\" key, subkey \"binary\" with each figures as subkeys and values :'\n",
      "print resources_with_fig['figures']['binary'].keys() "
     ],
     "language": "python",
     "metadata": {},
     "outputs": [
      {
       "output_type": "stream",
       "stream": "stdout",
       "text": [
        "resources without the \"figures\" key :\n",
        "['inlining']\n",
        "\n",
        "resources with the \"figures\" key, subkey \"binary\" with each figures as subkeys and values :\n",
        "[u'_fig_07.png', u'_fig_09.png', u'_fig_03.png', u'_fig_12.png', u'_fig_01.png']\n"
       ]
      }
     ],
     "prompt_number": 14
    },
    {
     "cell_type": "markdown",
     "metadata": {},
     "source": [
      "So now you can loop through the dict and write all those figures to disk in the right place... well at least you got the basics, this won't be enough for your blog,I'll let you fire out why by yourself. But more on that later. "
     ]
    },
    {
     "cell_type": "heading",
     "level": 4,
     "metadata": {},
     "source": [
      "Custom transformer"
     ]
    },
    {
     "cell_type": "markdown",
     "metadata": {},
     "source": [
      "Of course you can imagine many transformation that you would like to apply to a notebook. This is one of the reason we provide a way to register your own transformers that will be applied to the notebook after the default ones.\n",
      "\n",
      "To do so you'll have to pass an ordered list of `Transformer`s to the Exporter constructor. \n",
      "\n",
      "But what is an transformer ? Transformer can be either *decorated function* for dead-simple `Transformer`s that apply\n",
      "independently to each cell, for more advance transformation that support configurability You have to inherit from\n",
      "`Transformer` and define a `call` method as we'll see below.\n",
      "\n",
      "Here, in particular I'll inherit `ActivatableTransformer` that will give your transformer a magic attribute that allows it to be activated/disactivate from the config dict.\n"
     ]
    },
    {
     "cell_type": "code",
     "collapsed": false,
     "input": [
      "from nbconvert.transformers.activatable import ActivatableTransformer, ConfigurableTransformer\n",
      "import IPython.config\n",
      "print \"Four relevant docstring\"\n",
      "print '============================='\n",
      "print ActivatableTransformer.__doc__\n",
      "print '============================='\n",
      "print ConfigurableTransformer.__doc__\n",
      "print '============================='\n",
      "print ConfigurableTransformer.call.__doc__\n",
      "print '============================='\n",
      "print ConfigurableTransformer.cell_transform.__doc__\n",
      "print '============================='"
     ],
     "language": "python",
     "metadata": {},
     "outputs": [
      {
       "output_type": "stream",
       "stream": "stdout",
       "text": [
        "Four relevant docstring\n",
        "=============================\n",
        "ConfigurableTransformer that has an enabled flag\n",
        "\n",
        "    Inherit from this if you just want to have a transformer which is\n",
        "    disable by default and can be enabled via the config by\n",
        "        'c.YourTransformerName.enabled = True'\n",
        "    \n",
        "=============================\n",
        " A configurable transformer\n",
        "\n",
        "    Inherit from this class if you wish to have configurability for your\n",
        "    transformer.\n",
        "\n",
        "    Any configurable traitlets this class exposed will be configurable in profiles\n",
        "    using c.SubClassName.atribute=value\n",
        "\n",
        "    you can overwrite cell_transform to apply a transformation independently on each cell\n",
        "    or __call__ if you prefer your own logic. See orresponding docstring for informations.\n",
        "    \n",
        "=============================\n",
        "\n",
        "        Transformation to apply on each notebook.\n",
        "        \n",
        "        You should return modified nb, resources.\n",
        "        If you wish to apply your transform on each cell, you might want to \n",
        "        overwrite cell_transform method instead.\n",
        "        \n",
        "        Parameters\n",
        "        ----------\n",
        "        nb : NotebookNode\n",
        "            Notebook being converted\n",
        "        resources : dictionary\n",
        "            Additional resources used in the conversion process.  Allows\n",
        "            transformers to pass variables into the Jinja engine.\n",
        "        \n",
        "=============================\n",
        "\n",
        "        Overwrite if you want to apply a transformation on each cell.  You \n",
        "        should return modified cell and resource dictionary.\n",
        "        \n",
        "        Parameters\n",
        "        ----------\n",
        "        cell : NotebookNode cell\n",
        "            Notebook cell being processed\n",
        "        resources : dictionary\n",
        "            Additional resources used in the conversion process.  Allows\n",
        "            transformers to pass variables into the Jinja engine.\n",
        "        index : int\n",
        "            Index of the cell being processed\n",
        "        \n",
        "=============================\n"
       ]
      }
     ],
     "prompt_number": 15
    },
    {
     "cell_type": "markdown",
     "metadata": {},
     "source": [
      "***\n",
      "We don't provide convenient method to be aplied on each worksheet as the **data structure** for worksheet will be removed. (not the worksheet functionnality, which is still on it's way)\n",
      "***"
     ]
    },
    {
     "cell_type": "heading",
     "level": 3,
     "metadata": {},
     "source": [
      "Example"
     ]
    },
    {
     "cell_type": "markdown",
     "metadata": {},
     "source": [
      "I'll now demonstrate a specific example [requested](https://github.com/ipython/nbconvert/pull/137#issuecomment-18658235) while nbconvert 2 was beeing developped. The ability to exclude cell from the conversion process based on their index. \n",
      "\n",
      "I'll let you imagin how to inject cell, if what you just want is to happend static content at the beginning/end of a notebook, plese refer to templating section, it will be much easier and cleaner."
     ]
    },
    {
     "cell_type": "code",
     "collapsed": false,
     "input": [
      "from IPython.utils.traitlets import Integer\n",
      "from copy import deepcopy"
     ],
     "language": "python",
     "metadata": {},
     "outputs": [],
     "prompt_number": 16
    },
    {
     "cell_type": "code",
     "collapsed": false,
     "input": [
      "class PelicanSubCell(ActivatableTransformer):\n",
      "    \"\"\"A Pelican specific transformer to remove somme of the cells of a notebook\"\"\"\n",
      "    \n",
      "    # I could also read the cells from nbc.metadata.pelican is someone wrote a JS extension\n",
      "    # But I'll stay with configurable value. \n",
      "    start = Integer(0, config=True, help=\"first cell of notebook to be converted\")\n",
      "    end   = Integer(-1, config=True, help=\"last cell of notebook to be converted\")\n",
      "    \n",
      "    def call(self, nb, resources):\n",
      "\n",
      "        #nbc = deepcopy(nb)\n",
      "        nbc = nb\n",
      "        # don't print in real transformer !!!\n",
      "        print \"I'll keep only cells from \", self.start, \"to \", self.end, \"\\n\\n\"\n",
      "        for worksheet in nbc.worksheets :\n",
      "            cells = worksheet.cells[:]\n",
      "            worksheet.cells = cells[self.start:self.end]                    \n",
      "        return nbc, resources"
     ],
     "language": "python",
     "metadata": {},
     "outputs": [],
     "prompt_number": 17
    },
    {
     "cell_type": "code",
     "collapsed": false,
     "input": [
      "# I create this on the fly, but this could be loaded from a DB, and config object support merging...\n",
      "c =  Config({\n",
      "            'PelicanSubCell':{\n",
      "                            'enabled':True,\n",
      "                            'start':4,\n",
      "                            'end':6,\n",
      "                             }\n",
      "            })"
     ],
     "language": "python",
     "metadata": {},
     "outputs": [],
     "prompt_number": 18
    },
    {
     "cell_type": "markdown",
     "metadata": {},
     "source": [
      "I'm creating a pelican exporter that take `PelicanSubCell` extra transformers and a `config` object as parameter. This might seem redundant, but with configuration system you'll see that one can register an inactive transformer on all exporters and activate it at will form its config files and command line. "
     ]
    },
    {
     "cell_type": "code",
     "collapsed": false,
     "input": [
      "pelican = RstExporter(transformers=[PelicanSubCell], config=c)"
     ],
     "language": "python",
     "metadata": {},
     "outputs": [],
     "prompt_number": 19
    },
    {
     "cell_type": "code",
     "collapsed": false,
     "input": [
      "print pelican.from_notebook_node(jake_notebook)[0]"
     ],
     "language": "python",
     "metadata": {},
     "outputs": [
      {
       "output_type": "stream",
       "stream": "stdout",
       "text": [
        "I'll keep only cells from  4 to  6 \n",
        "\n",
        "\n",
        "Sometimes when showing schematic plots, this is the type of figure I\n",
        "want to display. But drawing it by hand is a pain: I'd rather just use\n",
        "matplotlib. The problem is, matplotlib is a bit too precise. Attempting\n",
        "to duplicate this figure in matplotlib leads to something like this:\n",
        "\n",
        "In[2]:\n",
        "\n",
        ".. code:: python\n",
        "\n",
        "    Image('http://jakevdp.github.com/figures/mpl_version.png')\n",
        "\n",
        "\n",
        ".. image:: _fig_03.png\n",
        "\n",
        "\n"
       ]
      },
      {
       "output_type": "stream",
       "stream": "stdout",
       "text": [
        "\n"
       ]
      }
     ],
     "prompt_number": 20
    },
    {
     "cell_type": "heading",
     "level": 4,
     "metadata": {},
     "source": [
      "Changing references to figures into converted Format"
     ]
    },
    {
     "cell_type": "markdown",
     "metadata": {},
     "source": [
      "This paragraph will be more a specifc example that something general, but it hav enough specificity to be fully explain. \n",
      "In most of the conversion process, you will probably want to have the extracted figures/graphs not in the same folder than the\n",
      "generated html or tex file. \n",
      "\n",
      "I'll take the example of the LaTeX converter where, most of the time, you will want the figures to be saved under the `figs/` folder. \n",
      "and As you can't directly include the `svg`, you will need another name to be included in the `.tex` file\n"
     ]
    },
    {
     "cell_type": "markdown",
     "metadata": {},
     "source": [
      "How does part of the latex Exporter look like without customisation ?"
     ]
    },
    {
     "cell_type": "code",
     "collapsed": false,
     "input": [
      "from nbconvert.exporters.latex import LatexExporter"
     ],
     "language": "python",
     "metadata": {},
     "outputs": [],
     "prompt_number": 21
    },
    {
     "cell_type": "code",
     "collapsed": false,
     "input": [
      "# same config as before\n",
      "c =  Config({\n",
      "            'PelicanSubCell':{\n",
      "                            'enabled':True,\n",
      "                            'start':4,\n",
      "                            'end':6,\n",
      "                             },\n",
      "            })\n",
      "lpelican = LatexExporter(transformers=[PelicanSubCell], config=c)"
     ],
     "language": "python",
     "metadata": {},
     "outputs": [],
     "prompt_number": 22
    },
    {
     "cell_type": "code",
     "collapsed": false,
     "input": [
      "c.PelicanSubCell['enabled'] = True"
     ],
     "language": "python",
     "metadata": {},
     "outputs": [],
     "prompt_number": 23
    },
    {
     "cell_type": "code",
     "collapsed": false,
     "input": [
      "lpelican.transformers[1].enabled"
     ],
     "language": "python",
     "metadata": {},
     "outputs": [
      {
       "metadata": {},
       "output_type": "pyout",
       "prompt_number": 24,
       "text": [
        "True"
       ]
      }
     ],
     "prompt_number": 24
    },
    {
     "cell_type": "code",
     "collapsed": false,
     "input": [
      "print lpelican.from_notebook_node(jake_notebook)[0][4027:]"
     ],
     "language": "python",
     "metadata": {},
     "outputs": [
      {
       "output_type": "stream",
       "stream": "stdout",
       "text": [
        "I'll keep only cells from  4 to  6 \n",
        "\n",
        "\n",
        "\\begin{document}\n",
        "\n",
        "\n",
        "Sometimes when showing schematic plots, this is the type of figure I\n",
        "want to display. But drawing it by hand is a pain: I'd rather just use\n",
        "matplotlib. The problem is, matplotlib is a bit too precise. Attempting\n",
        "to duplicate this figure in matplotlib leads to something like this:\n",
        "\n",
        "\\begin{codecell}\n",
        "\\begin{codeinput}\n",
        "\\begin{lstlisting}\n",
        "Image('http://jakevdp.github.com/figures/mpl_version.png')\n",
        "\\end{lstlisting}\n",
        "\\end{codeinput}\n",
        "\\begin{codeoutput}\n",
        "\n",
        "\\begin{center}\n",
        "\\includegraphics[width=0.7\\textwidth, height=0.9\\textheight, keepaspectratio]{_fig_03.png}\n",
        "\\par\n",
        "\\end{center}\n",
        "\n",
        "\\end{codeoutput}\n",
        "\\end{codecell}\n",
        "\n",
        "\n",
        "\n",
        "\\end{document}\n",
        "\n"
       ]
      },
      {
       "output_type": "stream",
       "stream": "stdout",
       "text": [
        "\n"
       ]
      }
     ],
     "prompt_number": 25
    },
    {
     "cell_type": "markdown",
     "metadata": {},
     "source": [
      "Clearly the `\\includegraphics[...]{_fig_03.png}` is probably not what you want. To help us with that we will use 2 configurables values of the `ExtractFigureTransformers`\n",
      "\n",
      "***\n",
      "### Disclamer : ###\n",
      "I'm not particulary happy with this part of the configurability, the exact naming may change, feedback and ideas welcommed\n",
      "***\n"
     ]
    },
    {
     "cell_type": "markdown",
     "metadata": {},
     "source": [
      "the property are the following :\n",
      "\n",
      "    - key_format_map\n",
      "    - figure_name_format_map\n",
      "    \n",
      "They respectively control the template of *key*s in the `resources` dict returned, the template of the figure names as they appear in  the converted document."
     ]
    },
    {
     "cell_type": "markdown",
     "metadata": {},
     "source": [
      "***\n",
      "Carefull reader will discover in the above cell a nice way to modify aconfig object, and will recognize\n",
      "something which is really close to the IPython config file syntax. One might forsee how the user\n",
      "will be able to create it's own converter through config file in a near future.\n",
      "\n",
      "The curious reader wan create multiple config object and will look at the possibilities that the `<Config>.update(<Config>)` methods allow.\n",
      "***"
     ]
    },
    {
     "cell_type": "markdown",
     "metadata": {},
     "source": [
      "A practical example would be to extract `svg`s into a `figs/svgs/` folder then convert them to `.ps` in `figs/ps/`.\n",
      "\n",
      "As the notebook I'm working with does not contain svgs, let's say that I will extract `png`s into the `figs/pngs/` folder, and will convert them to tiffs into the `figs/tiffs` folder.  So I need the `.tex` file to have the correct `includegraphics`...."
     ]
    },
    {
     "cell_type": "code",
     "collapsed": false,
     "input": [
      "# use a diffrent templates for pngs links into tex file:\n",
      "print c.ExtractFigureTransformer\n",
      "c.ExtractFigureTransformer.update(Config({'figure_name_format_map':{'png':'figs/tiffs/fig_{index:04d}.tiff'}}))\n",
      "print c.ExtractFigureTransformer"
     ],
     "language": "python",
     "metadata": {},
     "outputs": [
      {
       "output_type": "stream",
       "stream": "stdout",
       "text": [
        "{}\n",
        "{'figure_name_format_map': {'png': 'figs/tiffs/fig_{index:04d}.tiff'}}\n"
       ]
      }
     ],
     "prompt_number": 26
    },
    {
     "cell_type": "code",
     "collapsed": false,
     "input": [
      "lpelican = LatexExporter(transformers=[PelicanSubCell], config=None)\n",
      "print lpelican.config.ExtractFigureTransformer\n",
      "lpelican = LatexExporter(transformers=[PelicanSubCell], config=c)\n",
      "print lpelican.config.ExtractFigureTransformer\n",
      "(body,resources)=  lpelican.from_notebook_node(jake_notebook)\n",
      "print body[4509:-70]"
     ],
     "language": "python",
     "metadata": {},
     "outputs": [
      {
       "output_type": "stream",
       "stream": "stdout",
       "text": [
        "{'enabled': True}\n",
        "{'figure_name_format_map': {'png': 'figs/tiffs/fig_{index:04d}.tiff'}, 'enabled': True}\n",
        "I'll keep only cells from  4 to  6 \n",
        "\n",
        "\n",
        "\\includegraphics[width=0.7\\textwidth, height=0.9\\textheight, keepaspectratio]{figs/tiffs/fig_0003.tiff}\n"
       ]
      },
      {
       "output_type": "stream",
       "stream": "stdout",
       "text": [
        "\n"
       ]
      }
     ],
     "prompt_number": 27
    },
    {
     "cell_type": "code",
     "collapsed": false,
     "input": [
      "d = Config({\n",
      "             #'display_data_priority' : ['latex', 'svg', 'png', 'jpg', 'jpeg' , 'text'],\n",
      "             'extra_ext_map':{'svg':'pdf'},\n",
      "             'ExtractFigureTransformer' : {'enabled':True}\n",
      "     })"
     ],
     "language": "python",
     "metadata": {},
     "outputs": [],
     "prompt_number": 28
    },
    {
     "cell_type": "markdown",
     "metadata": {},
     "source": [
      "Great, so now, the value in the converted document have changed, but not the keys in the `resources` dict. "
     ]
    },
    {
     "cell_type": "code",
     "collapsed": false,
     "input": [
      "resources['figures']['binary'].keys()"
     ],
     "language": "python",
     "metadata": {},
     "outputs": [
      {
       "metadata": {},
       "output_type": "pyout",
       "prompt_number": 31,
       "text": [
        "[u'_fig_07.png',\n",
        " u'_fig_09.png',\n",
        " u'_fig_03.png',\n",
        " u'_fig_12.png',\n",
        " u'_fig_01.png']"
       ]
      }
     ],
     "prompt_number": 31
    },
    {
     "cell_type": "markdown",
     "metadata": {},
     "source": [
      "I can fix that by setting the `key_format_map`:"
     ]
    },
    {
     "cell_type": "code",
     "collapsed": false,
     "input": [
      "c.ExtractFigureTransformer.key_format_map = {'png':'png-tiff.{index}.{ext}'}"
     ],
     "language": "python",
     "metadata": {},
     "outputs": [],
     "prompt_number": 32
    },
    {
     "cell_type": "code",
     "collapsed": false,
     "input": [
      "lpelican = LatexExporter(transformers=[PelicanSubCell], config=c)\n",
      "(body,resources)=  lpelican.from_notebook_node(jake_notebook)\n",
      "resources['figures']['binary'].keys()"
     ],
     "language": "python",
     "metadata": {},
     "outputs": [
      {
       "output_type": "stream",
       "stream": "stdout",
       "text": [
        "I'll keep only cells from  4 to  6 \n",
        "\n",
        "\n"
       ]
      },
      {
       "metadata": {},
       "output_type": "pyout",
       "prompt_number": 33,
       "text": [
        "['png-tiff.9.png',\n",
        " 'png-tiff.1.png',\n",
        " 'png-tiff.12.png',\n",
        " 'png-tiff.3.png',\n",
        " 'png-tiff.7.png']"
       ]
      }
     ],
     "prompt_number": 33
    },
    {
     "cell_type": "markdown",
     "metadata": {},
     "source": [
      "***\n",
      "The current version of the ipynb files store the data relative to each display format by using file extension (png, json, jpeg), you can use `{ext}` to access those in the previous templates.\n",
      "\n",
      "In following version of ipynb format, the data will most likely be organized by mimetype. Which will require some change in this place. \n",
      "***"
     ]
    },
    {
     "cell_type": "heading",
     "level": 3,
     "metadata": {},
     "source": [
      "More to come. "
     ]
    },
    {
     "cell_type": "markdown",
     "metadata": {},
     "source": [
      "I think this is enough for now, As you have seen there are a few bugs here and there I need to correct before continuing. \n",
      "Next time I'll show you how to modify template : \n",
      "\n",
      "    {%- extends 'fullhtml.tpl' -%}\n",
      "    {% block input_group -%}\n",
      "    {% endblock input_group %}\n",
      "    \n",
      "... and you just removed all the codecell by keeping the output and markdown codecell, isn't that wonderfull ?\n",
      "You want to wrap each cell in your own div ?\n",
      "\n",
      "    {%- extends 'fullhtml.tpl' -%}\n",
      "    {% block codecell %}\n",
      "    <div class=\"myclass\">\n",
      "    {{ super() }}\n",
      "    </div>\n",
      "    {%- endblock codecell %}\n",
      "\n",
      "Try to look at what [Jinja](http://jinja.pocoo.org/docs/) can do, thenlearn about Jinja Filters and imagine\n",
      "they can magically read your config file. \n",
      "\n",
      "For example we provide a filter that highlight by presupposing code is Python. Or one that wraps text at a default length of 80 char... Want a rot13 filter on some codecell when doing exercises for student ? See you next time !\n"
     ]
    }
   ],
   "metadata": {}
  }
 ]
}