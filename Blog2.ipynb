{
 "metadata": {
  "name": "Blog2"
 },
 "nbformat": 3,
 "nbformat_minor": 0,
 "worksheets": [
  {
   "cells": [
    {
     "cell_type": "heading",
     "level": 1,
     "metadata": {},
     "source": [
      "IPython Notebook Duck-Punching (II)"
     ]
    },
    {
     "cell_type": "markdown",
     "metadata": {},
     "source": [
      "> If it walks like a duck and talks like a duck, it\u2019s a duck. So if this duck is not giving you the noise that you want, you\u2019ve got to just punch that duck until it returns what you expect."
     ]
    },
    {
     "cell_type": "markdown",
     "metadata": {},
     "source": [
      "TL;DR: \n",
      "\n",
      "Last wee we saw `custom.css` is the way to inject css, today we'll use `custom.js` to asynchronouly fetch css and replace the default one. The rest is api detail and rely wrapping arount the following jquery call : \n",
      "\n",
      "    $('link:nth(5)').attr('href','/static/css/new-style.min.css')"
     ]
    },
    {
     "cell_type": "heading",
     "level": 3,
     "metadata": {},
     "source": [
      "Intro"
     ]
    },
    {
     "cell_type": "markdown",
     "metadata": {},
     "source": [
      "This the second nbviewer post on the IPython notebook. Mainly in responses to comment on [Better typography for IPython notebooks](http://slendrmeans.wordpress.com/2012/12/05/better-typography-for-ipython-notebooks), we saw [last time] how to locally add custom css to a notebook wihtout too much pain. Now we are going to dg deeper into IPython code and see what we can do. \n",
      "\n",
      "As for the first post, you will stil be able to do everything without changing the source, the difference is that now you will need to get the dev version. \n",
      "\n",
      "For those of you on linux; you can get a daily build with [Julian Taylor PPA](https://launchpad.net/~jtaylor/+archive/ipython-dev) that should work great. \n",
      "Be carefull though, it has a few custom patches that moved the static resources into `/usr/share/`\n",
      "\n",
      "<style>\n",
      "    div.cell, .text_cell_render{\n",
      "        max-width:750px;\n",
      "        margin-left:auto;\n",
      "        margin-right:auto;\n",
      "\n",
      "    }\n",
      "    \n",
      "    \n",
      "    h1 {\n",
      "        text-align:center;\n",
      "        font-familly:\"Charis SIL\", serif;\n",
      "    }\n",
      "    \n",
      "</style>"
     ]
    },
    {
     "cell_type": "markdown",
     "metadata": {},
     "source": [
      "This notebook will contain javascript snippet, but unlike last post, I will not put them in `%%javascript` magic for a few reasons, the first beeing that it will not work on nbviewer, the second is that you should stop relying on publishing javascipt using the `_repr_javascript_` of IPyton as it will be deprecated. This will be the subject of another post, but don't complain we have bigger plan to replace that."
     ]
    },
    {
     "cell_type": "heading",
     "level": 3,
     "metadata": {},
     "source": [
      "Start Punching"
     ]
    },
    {
     "cell_type": "markdown",
     "metadata": {},
     "source": [
      "If you made your home work, you probably know that `custom.js` is in  `profile_xxx/static/js/custom.js` and that any file in `profile_xxx/static/[dirs]/[name]` is availlable with the `/static/[dirs]/[name]` url once in notebook.\n",
      "\n"
     ]
    },
    {
     "cell_type": "markdown",
     "metadata": {},
     "source": [
      "Here is the doc for custom js : \n"
     ]
    },
    {
     "cell_type": "markdown",
     "metadata": {},
     "source": [
      "> Placeholder for custom user javascript mainly to be overridden in profile/static/js/custom.js This will always be an empty file in IPython\n",
      "\n",
      "> User could add any javascript in the profile/static/js/custom.js file (and should create it if it does not exist). It will be executed by the ipython notebook at load time.\n",
      "\n",
      "> Same thing with profile/static/css/custom.css to inject custom css into the notebook.\n",
      "\n",
      "> Example :\n",
      "\n",
      "> Create a custom button in toolbar that execute %qtconsole in kernel and hence open a qtconsole attached to the same kernel as the current notebook\n",
      "\n",
      ">     $([IPython.events]).on('notebook_loaded.Notebook', function(){\n",
      ">         IPython.toolbar.add_buttons_group([\n",
      ">             {\n",
      ">                  'label'   : 'run qtconsole',\n",
      ">                  'icon'    : 'ui-icon-calculator', \n",
      ">                  'callback': function(){IPython.notebook.kernel.execute('%qtconsole')}\n",
      ">             }\n",
      ">             // add more button here if needed.\n",
      ">             ]);\n",
      ">     });\n",
      "\n",
      "> Example :\n",
      "\n",
      "> ..."
     ]
    },
    {
     "cell_type": "markdown",
     "metadata": {},
     "source": [
      "You can view the doc using [yuidoc](http://yui.github.com/yuidoc/) than run with [node] and can be installed via [npm], running `yuidoc --server` in the `js` directory will provide you with the most up to date documentation, and you are welcomed to bring correction and improvement to it, as well as helpin hus having a daily build."
     ]
    },
    {
     "cell_type": "markdown",
     "metadata": {},
     "source": [
      "As `custom.css` help us to inject css into the web-notebook, `custom.js` allo us to inject custom javascript. And you might guess maintaining a lot of javascript into one file is painfull, so we will just use that as en entry point. "
     ]
    },
    {
     "cell_type": "markdown",
     "metadata": {},
     "source": [
      "Little side note : For those of you that don't do javascript, the dollar sign `$` is a valid variable name and is usually bind to jQuery ( a library ) that do many things. So `$(foo).bar()` is callin jQuery with the parameter `foo` most of the time a `selector`  and then calling the method `bar` on `$(foo)` wherease `$.foo` is calling the method `foo` of jQuery itself. \n",
      "\n",
      "Don't worry about the exact meaning or difference, just remember that `$` is an object that does things and not something part of JS language."
     ]
    },
    {
     "cell_type": "markdown",
     "metadata": {},
     "source": [
      "So we can use jQuery [`getScript`](http://api.jquery.com/jQuery.getScript/) to just load another file where we will work."
     ]
    },
    {
     "cell_type": "code",
     "collapsed": false,
     "input": [
      "%%bash\n",
      "touch ~/.ipython/profile_default/static/js/css_selector.js\n"
     ],
     "language": "python",
     "metadata": {},
     "outputs": [],
     "prompt_number": 5
    },
    {
     "cell_type": "code",
     "collapsed": false,
     "input": [
      "%%file /Users/bussonniermatthias/.ipython/profile_default/static/js/css_selector.js\n",
      "alert(\"I'm loaded\")"
     ],
     "language": "python",
     "metadata": {},
     "outputs": [
      {
       "output_type": "stream",
       "stream": "stdout",
       "text": [
        "Overwriting /Users/bussonniermatthias/.ipython/profile_default/static/js/css_selector.js\n"
       ]
      }
     ],
     "prompt_number": 7
    },
    {
     "cell_type": "markdown",
     "metadata": {},
     "source": [
      "Now we load dynamicaly this file, adding the following to our `custom.js``\n",
      "\n",
      "    $.getScript('/static/js/css_selector.js')"
     ]
    },
    {
     "cell_type": "markdown",
     "metadata": {},
     "source": [
      "I cheat a little and don't do it from the notebook as my config file have more stuff in it, but here is the corresponding line."
     ]
    },
    {
     "cell_type": "code",
     "collapsed": false,
     "input": [
      "!cat ~/.ipython/profile_default/static/js/custom.js | head -n 6 | tail -n 1"
     ],
     "language": "python",
     "metadata": {},
     "outputs": [
      {
       "output_type": "stream",
       "stream": "stdout",
       "text": [
        "$.getScript('/static/js/css_selector.js')\r\n"
       ]
      }
     ],
     "prompt_number": 20
    },
    {
     "cell_type": "markdown",
     "metadata": {},
     "source": [
      "Now you can run your notebook and you should see a popup that say \"I am loaded\""
     ]
    },
    {
     "cell_type": "markdown",
     "metadata": {},
     "source": [
      "So now, the big seecret is to find the current css file and replace the link to our custom link. This is the first feature that **is not supported** (yet ?) by the notebook and you will need to adapt to this durring the developpement. With time things will become easier to do hopefully"
     ]
    },
    {
     "cell_type": "markdown",
     "metadata": {},
     "source": [
      "So, select the 5th `<link>` in `<head>` which contain the current style.\n",
      "\n",
      "    $('link:nth(5)')\n",
      "\n",
      "And set it the new one:\n",
      "\n",
      "    $('link:nth(5)').attr('href','/static/css/new-style.min.css')"
     ]
    },
    {
     "cell_type": "markdown",
     "metadata": {},
     "source": [
      "But wait, if you replace the default style won't this screw everything up by removing the default style ? \n",
      "\n",
      "Yes, That why know we'll see how to compile your own full style :-) Isn't it the goal of thoses posts ? "
     ]
    },
    {
     "cell_type": "heading",
     "level": 4,
     "metadata": {},
     "source": [
      "Recompilying a style"
     ]
    },
    {
     "cell_type": "markdown",
     "metadata": {},
     "source": [
      "You can if you wish create a style from scratch, this does not require any more tool. It will just probably be paintfull, so I suggest you start by modifying the IPyton ones to create a new theme and compile it."
     ]
    },
    {
     "cell_type": "markdown",
     "metadata": {},
     "source": [
      "To do so you'll need some extra dependencies [python fabric], [lessc], [bower] and a few other that  bower will install. "
     ]
    },
    {
     "cell_type": "markdown",
     "metadata": {},
     "source": [
      "Get the IPython dev source tree, and go into `IPython/frontent/html/notebook/` and issue a\n",
      "\n",
      "       $ bower install\n",
      "\n",
      "It will look for all the dependencies in `component.json` and install them. This include bootstrap for the css and a few more things, that will be installed in the `component`directory.\n",
      "\n",
      "The IPython repo will move more and more toward requiring things as \"component\" later, especially for dev version. "
     ]
    },
    {
     "cell_type": "markdown",
     "metadata": {},
     "source": [
      "You can now use `less` or `lessc` compiler to turn all files in `/static/less/*.less` into one big css theme file.\n",
      "\n",
      "this can be done with :\n",
      "\n",
      "       $ lessc -x less/style.less output_file\n",
      "\n",
      "or :\n",
      "\n",
      "       $ fab css\n",
      "\n",
      "to regenerate IPython one. \n",
      "\n",
      "Now this is more or less up to you, I advise you to \"fork\" \n",
      "`static/less/style.less`and `static/less/varaibles.less` then recompile to get your new theme. Those file will probably change **a lot** during the next few month. And the is typically the place where we need your help to refactor.\n",
      "\n"
     ]
    }
   ],
   "metadata": {}
  }
 ]
}