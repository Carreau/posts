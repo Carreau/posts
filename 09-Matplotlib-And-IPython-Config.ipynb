{
 "metadata": {
  "name": ""
 },
 "nbformat": 3,
 "nbformat_minor": 0,
 "worksheets": [
  {
   "cells": [
    {
     "cell_type": "markdown",
     "metadata": {},
     "source": [
      "This is an experiement of how one could try to improve matplotlib configuration system\n",
      "using IPython's traitlets system. \n",
      "\n",
      "It has probably a **huge**  number of disatvantages going from slowing down all the matplotlib stack,\n",
      "as making every class name matter in backward compatibility.\n",
      "\n",
      "Far from beeing a perfect lovechild of two awesome project, this is for now an horible mutant \n",
      "that at some point inspect up it's statck to find information about it's caller in some places."
     ]
    },
    {
     "cell_type": "heading",
     "level": 3,
     "metadata": {},
     "source": [
      "Warning"
     ]
    },
    {
     "cell_type": "markdown",
     "metadata": {},
     "source": [
      "This post has been written with a [patched version of Matplotlib](https://github.com/Carreau/matplotlib/compare/master...traitlets)."
     ]
    },
    {
     "cell_type": "heading",
     "level": 2,
     "metadata": {},
     "source": [
      "TL,DR;"
     ]
    },
    {
     "cell_type": "markdown",
     "metadata": {},
     "source": [
      "Here is an example where the color of **any** `Text` object of matplotlib has a configurable color as long as the object that creates it is (also) an `Artist`, with minimal modification of matplotlib."
     ]
    },
    {
     "cell_type": "code",
     "collapsed": false,
     "input": [
      "%pylab inline\n",
      "from IPython.config import Config\n",
      "matplotlib.rc('font',size=20)"
     ],
     "language": "python",
     "metadata": {},
     "outputs": [
      {
       "output_type": "stream",
       "stream": "stdout",
       "text": [
        "Populating the interactive namespace from numpy and matplotlib\n"
       ]
      }
     ],
     "prompt_number": 1
    },
    {
     "cell_type": "code",
     "collapsed": false,
     "input": [
      "matplotlib.config = Config()\n",
      "\n",
      "# by default all Text are purple\n",
      "matplotlib.config.Text.t_color = 'purple'\n",
      "\n",
      "# Except Text created by X/Y Axes  are red/aqua\n",
      "matplotlib.config.YAxis.Text.t_color='red'\n",
      "matplotlib.config.XAxis.Text.t_color='aqua'\n",
      "\n",
      "# If this is the text of a Tick it should be orange\n",
      "matplotlib.config.Tick.Text.t_color='orange'\n",
      "\n",
      "# unless this is an XTick, then it shoudl be Gray-ish\n",
      "matplotlib.config.XTick.Text.t_color=(0.4,0.4,0.3)"
     ],
     "language": "python",
     "metadata": {},
     "outputs": [],
     "prompt_number": 2
    },
    {
     "cell_type": "code",
     "collapsed": false,
     "input": [
      "plt.plot(sinc(arange(0,3*np.pi,0.1))+1,'green', label='a sinc')\n",
      "plt.ylabel('sinc(x)')\n",
      "plt.xlabel('This is X')\n",
      "plt.title('Title')\n",
      "plt.legend()"
     ],
     "language": "python",
     "metadata": {},
     "outputs": [
      {
       "metadata": {},
       "output_type": "pyout",
       "prompt_number": 3,
       "text": [
        "<matplotlib.legend.Legend at 0x11252d590>"
       ]
      },
      {
       "metadata": {},
       "output_type": "display_data",
       "png": "[encoded data removed]",
       "text": [
        "<matplotlib.figure.Figure at 0x1124445d0>"
       ]
      }
     ],
     "prompt_number": 3
    },
    {
     "cell_type": "heading",
     "level": 3,
     "metadata": {},
     "source": [
      "I love Matplotlib"
     ]
    },
    {
     "cell_type": "markdown",
     "metadata": {},
     "source": [
      "I love Matplotlib and [what you can do with it](http://jakevdp.github.io/blog/2013/07/10/XKCD-plots-in-matplotlib/), I am always impressed by how [Jake Van Der Plas](http://jakevdp.github.io) is able to bend Matpltolib in dooing amazing things. That beeing said, default color for matplotlib graphics are not that nice, mainly because of legacy, and even if Matplotlib is [hightly configurable](http://matplotlib.org/users/customizing.html), many [libraries](https://github.com/mwaskom/seaborn) are trying to [fix it](https://github.com/yhat/ggplot/) and receipt on the net are common."
     ]
    },
    {
     "cell_type": "heading",
     "level": 3,
     "metadata": {},
     "source": [
      "IPython configuration is magic"
     ]
    },
    {
     "cell_type": "markdown",
     "metadata": {},
     "source": [
      "I'm not that familiar with Matplotlib internal, but I'm quite familiar with IPython's internal. \n",
      "In particular, using a lightweight version of Enthought Traits we call Traitlets, almost every pieces of IPython is configurable. \n",
      "\n",
      "According to [Clarke's third law](https://en.wikipedia.org/wiki/Clarke's_three_laws)\n",
      "\n",
      "> Any sufficiently advanced technology is indistinguishable from magic."
     ]
    },
    {
     "cell_type": "markdown",
     "metadata": {},
     "source": [
      "So I'll assume that IPython configuration system is magic. Still there is some rule you shoudl know. \n",
      "\n",
      "In IPython, any object that inherit from `Configurable` can have attributes that are configurable.\n",
      "The name of the configuration attribute that will allow to change the value of this attribute are easy, it's \n",
      "`Class.attribute = Value`, and if the creator of an object took care of passing a reference to itself, you can nest config as `ParentClass.Class.attribute = value`, by dooing so only `Class` created by `ParentClass` will have  `value` set. With a dummy example. \n",
      "\n",
      "```python\n",
      "\n",
      "class Foo(Configurable):\n",
      "\n",
      "    length = Integer(1,config=True)\n",
      "    ...\n",
      "    \n",
      "class Bar(Configurable):\n",
      "\n",
      "    def __init__(self):\n",
      "        foo = Foo(parent=self)\n",
      "\n",
      "class Rem(Bar):\n",
      "    pass\n",
      "\n",
      "```\n",
      "\n",
      "\n",
      "every `Foo` object length can be configured with `Foo.length=2` or you can target a subset of foo by setting `Rem.Foo.length` or `Bar.Foo.lenght`.\n",
      "\n",
      "\n",
      "But this might be a little abstarct, let's do a demo with matplotlib"
     ]
    },
    {
     "cell_type": "code",
     "collapsed": false,
     "input": [
      "cd ~/matplotlib/"
     ],
     "language": "python",
     "metadata": {},
     "outputs": [
      {
       "output_type": "stream",
       "stream": "stdout",
       "text": [
        "/Users/bussonniermatthias/matplotlib\n"
       ]
      }
     ],
     "prompt_number": 4
    },
    {
     "cell_type": "markdown",
     "metadata": {},
     "source": [
      "let's make matplotlib `Artist` an IPython `Configurable`, grab default config from `matplotlib.config` if it exist, and pass it to parrent.\n",
      "\n",
      "    -class Artist(object):\n",
      "    +class Artist(Configurable):\n",
      "\n",
      "    -    def __init__(self):\n",
      "    +    def __init__(self, config=None, parent=None):\n",
      "    +        \n",
      "    +        c = getattr(matplotlib,'config',Config({}))\n",
      "    +        if config :\n",
      "    +            c.merge(config)\n",
      "    +        super(Artist, self).__init__(config=c, parent=parent)"
     ]
    },
    {
     "cell_type": "markdown",
     "metadata": {},
     "source": [
      "Now we will define 2 attributes of `Patches` (a subclass of Artist) ; `t_color`, `t_lw` that are respectively a `Color` or a `Float` and set the default color of current `Patch` to this attribute."
     ]
    },
    {
     "cell_type": "markdown",
     "metadata": {},
     "source": [
      "\n",
      "     class Patch(artist.Artist):\n",
      "\n",
      "    +    t_color = MaybeColor(None,config=True)\n",
      "    +    t_lw = MaybeFloat(None,config=True)\n",
      "    +\n",
      "         ...\n",
      "             if linewidth is None:\n",
      "    -            linewidth = mpl.rcParams['patch.linewidth']\n",
      "    +            if self.t_lw is not None:\n",
      "    +                linewidth = self.t_lw\n",
      "    +            else:\n",
      "    +                linewidth = mpl.rcParams['patch.linewidth']\n",
      "             ...\n",
      "             if color is None:\n",
      "    -            color = mpl.rcParams['patch.facecolor']\n",
      "    +            if self.t_color is not None:\n",
      "    +                color = self.t_color\n",
      "    +            else :\n",
      "    +                color = mpl.rcParams['patch.facecolor']\n"
     ]
    },
    {
     "cell_type": "markdown",
     "metadata": {},
     "source": [
      "One could also set `_t_color_default` to `mpl.rcParams['patch.facecolor']` but it becommes complicaed for the explanation"
     ]
    },
    {
     "cell_type": "heading",
     "level": 2,
     "metadata": {},
     "source": [
      "That's enought"
     ]
    },
    {
     "cell_type": "markdown",
     "metadata": {},
     "source": [
      "This is the minimum viable to have this to work we can know magically configure independently **any** Subclass of `Patche`s"
     ]
    },
    {
     "cell_type": "markdown",
     "metadata": {},
     "source": [
      "We know that `Wedge`, `Ellipse`,`...` and other are part of this category, so let's play with their `t_color`"
     ]
    },
    {
     "cell_type": "code",
     "collapsed": false,
     "input": [
      "# some minimal imports\n",
      "import matplotlib.pyplot as plt;\n",
      "\n",
      "import numpy as np\n",
      "import matplotlib.path as mpath\n",
      "import matplotlib.lines as mlines\n",
      "import matplotlib.patches as mpatches\n",
      "from matplotlib.collections import PatchCollection\n"
     ],
     "language": "python",
     "metadata": {},
     "outputs": [],
     "prompt_number": 5
    },
    {
     "cell_type": "code",
     "collapsed": false,
     "input": [
      "matplotlib.config = Config({\n",
      "                            \"Wedge\"         :{\"t_color\":\"0.4\"},\n",
      "                            \"Ellipse\"       :{\"t_color\":(0.9, 0.3, 0.7)},\n",
      "                            \"Circle\"        :{\"t_color\":'red'},\n",
      "                            \"Arrow\"         :{\"t_color\":'green'},\n",
      "                            \"RegularPolygon\":{\"t_color\":'aqua'},\n",
      "                            \"FancyBboxPatch\":{\"t_color\":'y'},\n",
      "                            })"
     ],
     "language": "python",
     "metadata": {},
     "outputs": [],
     "prompt_number": 6
    },
    {
     "cell_type": "markdown",
     "metadata": {},
     "source": [
      "Let's see what this gives :"
     ]
    },
    {
     "cell_type": "code",
     "collapsed": false,
     "input": [
      "\"\"\"\n",
      "example derived from \n",
      "http://matplotlib.org/examples/shapes_and_collections/artist_reference.html\n",
      "\"\"\"\n",
      "fig, ax = plt.subplots()\n",
      "grid = np.mgrid[0.2:0.8:3j, 0.2:0.8:3j].reshape(2, -1).T\n",
      "\n",
      "patches = []\n",
      "patches.append(mpatches.Circle(grid[0], 0.1,ec=\"none\"))\n",
      "patches.append(mpatches.Rectangle(grid[1] - [0.025, 0.05], 0.05, 0.1, ec=\"none\"))\n",
      "patches.append(mpatches.Wedge(grid[2], 0.1, 30, 270, ec=\"none\"))\n",
      "patches.append(mpatches.RegularPolygon(grid[3], 5, 0.1))\n",
      "patches.append(mpatches.Ellipse(grid[4], 0.2, 0.1))\n",
      "patches.append(mpatches.Arrow(grid[5, 0]-0.05, grid[5, 1]-0.05, 0.1, 0.1, width=0.1))\n",
      "patches.append(mpatches.FancyBboxPatch(\n",
      "        grid[7] - [0.025, 0.05], 0.05, 0.1,\n",
      "        boxstyle=mpatches.BoxStyle(\"Round\", pad=0.02)))\n",
      "collection = PatchCollection(patches, match_original=True)\n",
      "ax.add_collection(collection)\n",
      "\n",
      "plt.subplots_adjust(left=0, right=1, bottom=0, top=1)\n",
      "plt.axis('equal')\n",
      "plt.axis('off')\n",
      "plt.show()"
     ],
     "language": "python",
     "metadata": {},
     "outputs": [
      {
       "metadata": {},
       "output_type": "display_data",
       "png": "[encoded data removed]",
       "text": [
        "<matplotlib.figure.Figure at 0x112452c10>"
       ]
      }
     ],
     "prompt_number": 7
    },
    {
     "cell_type": "markdown",
     "metadata": {},
     "source": [
      "It works !!! Isn't that great ? Free configuration for all `Artists` ; of course as long as you don't explicitely set the color, or course. "
     ]
    },
    {
     "cell_type": "heading",
     "level": 3,
     "metadata": {},
     "source": [
      "Let's be ugly."
     ]
    },
    {
     "cell_type": "markdown",
     "metadata": {},
     "source": [
      "We need slightly more to have nested configuration, each `Configurable` have to be passed the `parent` keyword, \n",
      "but Matplotlib is not made to pass the `parent` keyword to every Artist it creates, this prevent the use of nested configuration. Still using inspect, we can try to get a handle on the parent, by walking up the stack. \n",
      "\n",
      "adding the following in `Artist` constructor:\n",
      "\n",
      "```python\n",
      "import inspect \n",
      "def __init__(self, config=None, parent=None):\n",
      "    i_parent = inspect.currentframe().f_back.f_back.f_locals.get('self',None)\n",
      "    if (i_parent is not self) and (parent is not i_parent) :\n",
      "        if (isinstance(i_parent,Configurable)):\n",
      "            parent = i_parent\n",
      "    ....\n",
      "```\n"
     ]
    },
    {
     "cell_type": "markdown",
     "metadata": {},
     "source": [
      "let's patch `Text` to also accept a `t_color` configurable, bacause `Text` is a good candidate for nesting configurability:\n",
      "\n",
      "\n",
      "     class Text(Artist):\n",
      "    +    t_color = MaybeColor(None,config=True)\n",
      "\n",
      "             if color is None:\n",
      "    -            color = rcParams['text.color']\n",
      "    +            if self.t_color is not None:\n",
      "    +                color = self.t_color\n",
      "    +            else :\n",
      "    +                color = rcParams['text.color']\n",
      "    +        if self.t_color is not None:\n",
      "    +            color = self.t_color\n",
      "    +\n",
      "             if fontproperties is None:\n",
      "                 fontproperties = FontProperties()"
     ]
    },
    {
     "cell_type": "markdown",
     "metadata": {},
     "source": [
      "Now we shoudl be able to make default `Text` always purple, nice things about `Config` object is that once created they accept acces of any attribute with dot notation."
     ]
    },
    {
     "cell_type": "code",
     "collapsed": false,
     "input": [
      "matplotlib.config.Text.t_color = 'purple'"
     ],
     "language": "python",
     "metadata": {},
     "outputs": [],
     "prompt_number": 8
    },
    {
     "cell_type": "code",
     "collapsed": false,
     "input": [
      "fig,ax = plt.subplots(1,1)\n",
      "plt.plot(sinc(arange(0,6,0.1)))\n",
      "plt.ylabel('SinC(x)')\n",
      "plt.title('SinC of X')"
     ],
     "language": "python",
     "metadata": {},
     "outputs": [
      {
       "metadata": {},
       "output_type": "pyout",
       "prompt_number": 9,
       "text": [
        "<matplotlib.text.Text at 0x11260fe10>"
       ]
      },
      {
       "metadata": {},
       "output_type": "display_data",
       "png": "[encoded data removed]",
       "text": [
        "<matplotlib.figure.Figure at 0x1125052d0>"
       ]
      }
     ],
     "prompt_number": 9
    },
    {
     "cell_type": "markdown",
     "metadata": {},
     "source": [
      "Ok, not much further than current matplotlib configuratin right ? \n",
      "\n",
      "We also know that `XAxis` and `Yaxis` inherit from `Axis` which itself inherit from `Artist`.\n",
      "Both are responsible from creating the x- and y-label "
     ]
    },
    {
     "cell_type": "code",
     "collapsed": false,
     "input": [
      "matplotlib.config.YAxis.Text.t_color='r'\n",
      "matplotlib.config.YAxis.Text.t_color='aqua'"
     ],
     "language": "python",
     "metadata": {},
     "outputs": [],
     "prompt_number": 10
    },
    {
     "cell_type": "markdown",
     "metadata": {},
     "source": [
      "same goes for `Tick`, `XTick` and `YTicks`.  I can of course set a parameter to the root class:"
     ]
    },
    {
     "cell_type": "code",
     "collapsed": false,
     "input": [
      "matplotlib.config.Tick.Text.t_color='orange'"
     ],
     "language": "python",
     "metadata": {},
     "outputs": [],
     "prompt_number": 11
    },
    {
     "cell_type": "markdown",
     "metadata": {},
     "source": [
      "and overwrite it for a specific subclass:"
     ]
    },
    {
     "cell_type": "code",
     "collapsed": false,
     "input": [
      "matplotlib.config.XTick.Text.t_color='gray'"
     ],
     "language": "python",
     "metadata": {},
     "outputs": [],
     "prompt_number": 12
    },
    {
     "cell_type": "code",
     "collapsed": false,
     "input": [
      "fig,ax = plt.subplots(1,1)\n",
      "plt.plot(sinc(arange(0,6,0.1)))\n",
      "plt.ylabel('SinC(x)')\n",
      "plt.title('SinC of X')"
     ],
     "language": "python",
     "metadata": {},
     "outputs": [
      {
       "metadata": {},
       "output_type": "pyout",
       "prompt_number": 13,
       "text": [
        "<matplotlib.text.Text at 0x112648390>"
       ]
      },
      {
       "metadata": {},
       "output_type": "display_data",
       "png": "[encoded data removed]",
       "text": [
        "<matplotlib.figure.Figure at 0x11262c590>"
       ]
      }
     ],
     "prompt_number": 13
    },
    {
     "cell_type": "markdown",
     "metadata": {},
     "source": [
      "This is, as far as I know not possible to do with current matplotlib confuguration system.\n",
      "At least not without adding a rc-param for each and every imaginable combinaison. "
     ]
    },
    {
     "cell_type": "heading",
     "level": 3,
     "metadata": {},
     "source": [
      "What more ?"
     ]
    },
    {
     "cell_type": "markdown",
     "metadata": {},
     "source": [
      "First thing it that this make it trivial for external library to plug into matplotlib configuration system to have their own defaults/configurable defaults. "
     ]
    },
    {
     "cell_type": "markdown",
     "metadata": {},
     "source": [
      "You also can of course refine configurability by use small no-op class that inherit from base classes and give them meaning. Especially right now, `Tick`s are separated in `XTick` and `YTick` with a major/minor attribute. \n",
      "They shoudl probably be refactor into `MajorTick`/`MinorTick`. With that you can mix and match configuration from the most global `Axis.Tick.value=...` to the more precise `YAxis.MinorTick`."
     ]
    },
    {
     "cell_type": "markdown",
     "metadata": {},
     "source": [
      "Let's do an example with a custom artist that create 2 kinds of circles. We'll need a custom no-op class that inherit Circle."
     ]
    },
    {
     "cell_type": "code",
     "collapsed": false,
     "input": [
      "class CenterCircle(mpatches.Circle):\n",
      "   pass"
     ],
     "language": "python",
     "metadata": {},
     "outputs": [],
     "prompt_number": 14
    },
    {
     "cell_type": "code",
     "collapsed": false,
     "input": [
      "matplotlib.config = Config()\n",
      "matplotlib.config.Circle.t_color='red'\n",
      "matplotlib.config.CenterCircle.t_color='aqua'"
     ],
     "language": "python",
     "metadata": {},
     "outputs": [],
     "prompt_number": 15
    },
    {
     "cell_type": "code",
     "collapsed": false,
     "input": [
      "from IPython.config import Configurable\n",
      "import math\n",
      "\n",
      "class MyGenArtist(Configurable):\n",
      "    \n",
      "    def n_circle(self, x,y,r,n=3):\n",
      "        pi = math.pi\n",
      "        sin,cos = math.sin, math.cos\n",
      "        l= []\n",
      "        for i in range(n):\n",
      "            l.append(mpatches.Circle(  ## here Circle\n",
      "                                (x+2*r*cos(i*2*pi/n),y+2*r*sin(i*2*pi/n)),\n",
      "                                 r,\n",
      "                                 ec=\"none\",\n",
      "                                ))\n",
      "        l.append(CenterCircle((x,y),r))  ## Here CenterCircle\n",
      "        return l\n",
      "        \n",
      "        \n",
      "\n",
      "\n",
      "fig, ax = plt.subplots()\n",
      "patches = []\n",
      "patches.extend(MyGenArtist().n_circle(4,1,0.5))\n",
      "patches.extend(MyGenArtist().n_circle(2,4,0.5,n=6))\n",
      "patches.extend(MyGenArtist().n_circle(1,1,0.5,n=5))\n",
      "collection = PatchCollection(patches, match_original=True)\n",
      "ax.add_collection(collection)\n",
      "plt.subplots_adjust(left=0, right=1, bottom=0, top=1)\n",
      "plt.axis('equal')\n",
      "plt.axis('off')"
     ],
     "language": "python",
     "metadata": {},
     "outputs": [
      {
       "metadata": {},
       "output_type": "pyout",
       "prompt_number": 16,
       "text": [
        "(-1.0, 6.0, -1.0, 6.0)"
       ]
      },
      {
       "metadata": {},
       "output_type": "display_data",
       "png": "[encoded data removed]",
       "text": [
        "<matplotlib.figure.Figure at 0x112503410>"
       ]
      }
     ],
     "prompt_number": 16
    },
    {
     "cell_type": "heading",
     "level": 3,
     "metadata": {},
     "source": [
      "What's next ? "
     ]
    },
    {
     "cell_type": "markdown",
     "metadata": {},
     "source": [
      "This configuration system is, of course not limited to Matplotib. But to use it it should probably be decoupled into a separated package first, independently of IPython. \n",
      "\n",
      "Also if it is ever accepted into matplotlib, there will still be a need to adapt current mechnisme to work on top of this. "
     ]
    },
    {
     "cell_type": "heading",
     "level": 3,
     "metadata": {},
     "source": [
      "Bonus"
     ]
    },
    {
     "cell_type": "markdown",
     "metadata": {},
     "source": [
      "This patches version of matplotlib keep track of all the `Configurable` it discovers while you use it. \n",
      "Here is a non exaustive list."
     ]
    },
    {
     "cell_type": "code",
     "collapsed": false,
     "input": [
      "from matplotlib import artist\n",
      "print \"-------------------------\"\n",
      "print \"Some single configurable\"\n",
      "print \"-------------------------\"\n",
      "for k in  sorted(artist.Artist.s):\n",
      "    print k\n",
      "print \"\"\n",
      "print \"---------------------------------\"\n",
      "print \"Some possible nested configurable\"\n",
      "print \"---------------------------------\"\n",
      "for k in sorted(artist.Artist.ps):\n",
      "    print k\n"
     ],
     "language": "python",
     "metadata": {},
     "outputs": [
      {
       "output_type": "stream",
       "stream": "stdout",
       "text": [
        "-------------------------\n",
        "Some single configurable\n",
        "-------------------------\n",
        "Arrow\n",
        "AxesSubplot\n",
        "CenterCircle\n",
        "Circle\n",
        "DrawingArea\n",
        "Ellipse\n",
        "FancyBboxPatch\n",
        "Figure\n",
        "HPacker\n",
        "Legend\n",
        "Line2D\n",
        "PatchCollection\n",
        "Rectangle\n",
        "RegularPolygon\n",
        "Spine\n",
        "Text\n",
        "TextArea\n",
        "VPacker\n",
        "Wedge\n",
        "XAxis\n",
        "XTick\n",
        "YAxis\n",
        "YTick\n",
        "\n",
        "---------------------------------\n",
        "Some possible nested configurable\n",
        "---------------------------------\n",
        "AxesSubplot.Legend\n",
        "AxesSubplot.Text\n",
        "AxesSubplot.XAxis\n",
        "AxesSubplot.YAxis\n",
        "TextArea.Text\n",
        "XAxis.Text\n",
        "XTick.Text\n",
        "YAxis.Text\n",
        "YTick.Text\n"
       ]
      }
     ],
     "prompt_number": 17
    }
   ],
   "metadata": {}
  }
 ]
}